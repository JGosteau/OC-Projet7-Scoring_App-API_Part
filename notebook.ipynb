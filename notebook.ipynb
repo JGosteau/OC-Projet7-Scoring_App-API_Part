{
 "cells": [
  {
   "cell_type": "code",
   "execution_count": 1,
   "metadata": {},
   "outputs": [],
   "source": [
    "import pandas as pd\n",
    "import numpy as np\n",
    "import plotly.express as px\n",
    "import plotly.graph_objects as go\n",
    "from model.traintest import get_train_test\n",
    "from model.models import MasterModel\n",
    "from model.utils.filtering import filter_column_or_index\n",
    "from model.utils.multi_label_encoder import MultiLabelEncoder\n",
    "import os, sys, time\n",
    "train_path = os.path.join(\"model\",\"data\", \"train.csv\")\n",
    "RANDOM_STATE = 123"
   ]
  },
  {
   "cell_type": "markdown",
   "metadata": {},
   "source": [
    "# <a name='I'>I. Préparation des données</a>"
   ]
  },
  {
   "cell_type": "code",
   "execution_count": 2,
   "metadata": {},
   "outputs": [
    {
     "name": "stdout",
     "output_type": "stream",
     "text": [
      "app readed\n"
     ]
    }
   ],
   "source": [
    "# Résume l'historique en valeurs minimales/maximales/moyennes et supprime les variables avec plus de 75% de valeurs manquantes\n",
    "try : \n",
    "    app = pd.read_csv(train_path, compression='gzip')\n",
    "    print('app readed')\n",
    "    app = filter_column_or_index(app, trig_filter=75)\n",
    "    app = filter_column_or_index(app, trig_filter=99.9999, axis = 1)\n",
    "except :\n",
    "    from model.traintest import feature_engineering_data\n",
    "    feature_engineering_data()\n"
   ]
  },
  {
   "cell_type": "code",
   "execution_count": 3,
   "metadata": {},
   "outputs": [
    {
     "name": "stdout",
     "output_type": "stream",
     "text": [
      "MLE - fitted ? False\n",
      "MLE - fitting\n"
     ]
    },
    {
     "name": "stderr",
     "output_type": "stream",
     "text": [
      "C:\\Users\\Julien\\AppData\\Local\\Temp\\ipykernel_11472\\2697285453.py:8: SettingWithCopyWarning: \n",
      "A value is trying to be set on a copy of a slice from a DataFrame.\n",
      "Try using .loc[row_indexer,col_indexer] = value instead\n",
      "\n",
      "See the caveats in the documentation: https://pandas.pydata.org/pandas-docs/stable/user_guide/indexing.html#returning-a-view-versus-a-copy\n",
      "  X[qualcols] = mle.transform(X[qualcols])\n"
     ]
    }
   ],
   "source": [
    "# Vectorize via LabelEncoder les variables qualitatives\n",
    "X = app[app.columns[~app.columns.isin(['SK_ID_CURR','TARGET'])]]\n",
    "Y = app.TARGET\n",
    "qualcols = X.columns[(X.dtypes == object) | (X.columns.str.contains('^FLAG'))]\n",
    "quantcols = X.columns[(X.dtypes != object) & (~X.columns.str.contains('^FLAG'))]\n",
    "\n",
    "mle = MultiLabelEncoder()\n",
    "mle.fit(X[qualcols])\n",
    "X[qualcols] = mle.transform(X[qualcols])"
   ]
  },
  {
   "cell_type": "code",
   "execution_count": 4,
   "metadata": {},
   "outputs": [
    {
     "data": {
      "text/plain": [
       "0.0    9209\n",
       "1.0     791\n",
       "Name: TARGET, dtype: int64"
      ]
     },
     "execution_count": 4,
     "metadata": {},
     "output_type": "execute_result"
    }
   ],
   "source": [
    "# Séparation données train/test\n",
    "from sklearn.model_selection import train_test_split\n",
    "xtrain, xtest, ytrain, ytest = train_test_split(X,Y, train_size=10000, random_state=RANDOM_STATE)\n",
    "ytrain.value_counts()"
   ]
  },
  {
   "cell_type": "markdown",
   "metadata": {},
   "source": [
    "# <a name='II'>II. Choix algorithme de re-échantillonage</a>"
   ]
  },
  {
   "cell_type": "code",
   "execution_count": 5,
   "metadata": {},
   "outputs": [
    {
     "name": "stdout",
     "output_type": "stream",
     "text": [
      "Fitting 5 folds for each of 5 candidates, totalling 25 fits\n",
      "[CV 1/5] END prepro=RandomUnderSampler(sampling_strategy=1), prepro_type=imblearn; roc_gen: (test=0.677) roc_test: (test=0.682) total time=   3.0s\n",
      "[CV 2/5] END prepro=RandomUnderSampler(sampling_strategy=1), prepro_type=imblearn; roc_gen: (test=0.674) roc_test: (test=0.692) total time=   3.1s\n",
      "[CV 3/5] END prepro=RandomUnderSampler(sampling_strategy=1), prepro_type=imblearn; roc_gen: (test=0.731) roc_test: (test=0.700) total time=   3.0s\n",
      "[CV 4/5] END prepro=RandomUnderSampler(sampling_strategy=1), prepro_type=imblearn; roc_gen: (test=0.697) roc_test: (test=0.705) total time=   3.0s\n",
      "[CV 5/5] END prepro=RandomUnderSampler(sampling_strategy=1), prepro_type=imblearn; roc_gen: (test=0.709) roc_test: (test=0.701) total time=   3.1s\n",
      "[CV 1/5] END prepro=NearMiss(sampling_strategy=1), prepro_type=imblearn; roc_gen: (test=0.540) roc_test: (test=0.540) total time=   2.7s\n",
      "[CV 2/5] END prepro=NearMiss(sampling_strategy=1), prepro_type=imblearn; roc_gen: (test=0.493) roc_test: (test=0.534) total time=   2.5s\n",
      "[CV 3/5] END prepro=NearMiss(sampling_strategy=1), prepro_type=imblearn; roc_gen: (test=0.512) roc_test: (test=0.535) total time=   2.5s\n",
      "[CV 4/5] END prepro=NearMiss(sampling_strategy=1), prepro_type=imblearn; roc_gen: (test=0.499) roc_test: (test=0.531) total time=   2.4s\n",
      "[CV 5/5] END prepro=NearMiss(sampling_strategy=1), prepro_type=imblearn; roc_gen: (test=0.503) roc_test: (test=0.529) total time=   2.5s\n",
      "[CV 1/5] END prepro=TomekLinks(sampling_strategy='majority'), prepro_type=imblearn; roc_gen: (test=0.653) roc_test: (test=0.649) total time=   2.8s\n",
      "[CV 2/5] END prepro=TomekLinks(sampling_strategy='majority'), prepro_type=imblearn; roc_gen: (test=0.599) roc_test: (test=0.617) total time=   2.7s\n",
      "[CV 3/5] END prepro=TomekLinks(sampling_strategy='majority'), prepro_type=imblearn; roc_gen: (test=0.647) roc_test: (test=0.614) total time=   2.7s\n",
      "[CV 4/5] END prepro=TomekLinks(sampling_strategy='majority'), prepro_type=imblearn; roc_gen: (test=0.602) roc_test: (test=0.624) total time=   2.7s\n",
      "[CV 5/5] END prepro=TomekLinks(sampling_strategy='majority'), prepro_type=imblearn; roc_gen: (test=0.611) roc_test: (test=0.626) total time=   2.7s\n",
      "[CV 1/5] END prepro=RandomOverSampler(sampling_strategy=1), prepro_type=imblearn; roc_gen: (test=0.665) roc_test: (test=0.677) total time=   3.1s\n",
      "[CV 2/5] END prepro=RandomOverSampler(sampling_strategy=1), prepro_type=imblearn; roc_gen: (test=0.661) roc_test: (test=0.670) total time=   3.2s\n",
      "[CV 3/5] END prepro=RandomOverSampler(sampling_strategy=1), prepro_type=imblearn; roc_gen: (test=0.713) roc_test: (test=0.696) total time=   3.2s\n",
      "[CV 4/5] END prepro=RandomOverSampler(sampling_strategy=1), prepro_type=imblearn; roc_gen: (test=0.693) roc_test: (test=0.682) total time=   3.2s\n",
      "[CV 5/5] END prepro=RandomOverSampler(sampling_strategy=1), prepro_type=imblearn; roc_gen: (test=0.671) roc_test: (test=0.682) total time=   3.2s\n",
      "[CV 1/5] END prepro=SMOTE(sampling_strategy=1), prepro_type=imblearn; roc_gen: (test=0.684) roc_test: (test=0.659) total time=   3.0s\n",
      "[CV 2/5] END prepro=SMOTE(sampling_strategy=1), prepro_type=imblearn; roc_gen: (test=0.672) roc_test: (test=0.671) total time=   3.0s\n",
      "[CV 3/5] END prepro=SMOTE(sampling_strategy=1), prepro_type=imblearn; roc_gen: (test=0.659) roc_test: (test=0.667) total time=   3.0s\n",
      "[CV 4/5] END prepro=SMOTE(sampling_strategy=1), prepro_type=imblearn; roc_gen: (test=0.700) roc_test: (test=0.675) total time=   2.9s\n",
      "[CV 5/5] END prepro=SMOTE(sampling_strategy=1), prepro_type=imblearn; roc_gen: (test=0.652) roc_test: (test=0.668) total time=   3.0s\n"
     ]
    }
   ],
   "source": [
    "from sklearn.model_selection import GridSearchCV\n",
    "from imblearn.under_sampling import RandomUnderSampler, NearMiss, TomekLinks\n",
    "from imblearn.over_sampling import RandomOverSampler, SMOTE\n",
    "param_grid = {\n",
    "    'prepro_type' : ['imblearn'],\n",
    "    'prepro' : [\n",
    "        RandomUnderSampler(sampling_strategy=1),\n",
    "        NearMiss(sampling_strategy=1),\n",
    "        TomekLinks(sampling_strategy='majority'),\n",
    "        RandomOverSampler(sampling_strategy=1),\n",
    "        SMOTE(sampling_strategy=1),\n",
    "        ]\n",
    "}\n",
    "scoring = {\n",
    "    'roc_gen' : MasterModel.score,\n",
    "    'roc_test' : lambda est, x, y : MasterModel.score(est, xtest, ytest)\n",
    "}\n",
    "features = xtrain.columns[1:]\n",
    "model = MasterModel(features=features, prepro_type='imblearn')\n",
    "\n",
    "\n",
    "grid = GridSearchCV(model, param_grid=param_grid, scoring= scoring, verbose=3, refit='roc_gen', cv = 5)\n",
    "grid.fit(xtrain, ytrain.ravel())\n",
    "grid_res = pd.DataFrame(grid.cv_results_)"
   ]
  },
  {
   "cell_type": "code",
   "execution_count": 6,
   "metadata": {},
   "outputs": [
    {
     "name": "stderr",
     "output_type": "stream",
     "text": [
      "C:\\Users\\Julien\\AppData\\Local\\Temp\\ipykernel_11472\\354931827.py:3: FutureWarning: The default value of regex will change from True to False in a future version.\n",
      "  grid_res_data.param_prepro = grid_res_data.param_prepro.astype(str).str.replace('\\(.*\\)', '')\n"
     ]
    },
    {
     "data": {
      "application/vnd.plotly.v1+json": {
       "config": {
        "plotlyServerURL": "https://plot.ly"
       },
       "data": [
        {
         "error_x": {
          "array": [
           0.02129317646923472,
           0.01638674092521942,
           0.0228155062529709,
           0.01977269873931588,
           0.01707001865736094
          ],
          "type": "data"
         },
         "name": "roc gen",
         "orientation": "h",
         "type": "bar",
         "x": [
          0.6975716804218252,
          0.5094227405504218,
          0.622528083712848,
          0.6804282056189168,
          0.6734770312019724
         ],
         "xaxis": "x",
         "y": [
          "RandomUnderSampler",
          "NearMiss",
          "TomekLinks",
          "RandomOverSampler",
          "SMOTE"
         ],
         "yaxis": "y"
        },
        {
         "error_x": {
          "array": [
           0.008232554715138706,
           0.003780650631037459,
           0.012308523703520492,
           0.008619316523874482,
           0.005369509912272551
          ],
          "type": "data"
         },
         "name": "roc test",
         "orientation": "h",
         "type": "bar",
         "x": [
          0.6960712801822219,
          0.5334885087938701,
          0.6260478915910713,
          0.6813793664326108,
          0.6679311970781657
         ],
         "xaxis": "x",
         "y": [
          "RandomUnderSampler",
          "NearMiss",
          "TomekLinks",
          "RandomOverSampler",
          "SMOTE"
         ],
         "yaxis": "y"
        },
        {
         "error_x": {
          "array": [
           0.03143207661461949,
           0.06064472934056337,
           0.028117964140021774,
           0.013944671400160431,
           0.005142232209669297
          ],
          "type": "data"
         },
         "name": "fit time",
         "orientation": "h",
         "type": "bar",
         "x": [
          0.3440053462982178,
          0.5598320484161377,
          0.7195850372314453,
          0.5042153358459472,
          0.5680892467498779
         ],
         "xaxis": "x2",
         "y": [
          "RandomUnderSampler",
          "NearMiss",
          "TomekLinks",
          "RandomOverSampler",
          "SMOTE"
         ],
         "yaxis": "y2"
        },
        {
         "error_x": {
          "array": [
           0.02911936555429937,
           0.0266064106294812,
           0.024481485735682897,
           0.01463510961989325,
           0.02817300432488884
          ],
          "type": "data"
         },
         "name": "score time",
         "orientation": "h",
         "type": "bar",
         "x": [
          2.806002712249756,
          2.0487936973571776,
          2.1056071281433106,
          2.7493378162384032,
          2.5030763149261475
         ],
         "xaxis": "x2",
         "y": [
          "RandomUnderSampler",
          "NearMiss",
          "TomekLinks",
          "RandomOverSampler",
          "SMOTE"
         ],
         "yaxis": "y2"
        }
       ],
       "layout": {
        "barmode": "group",
        "template": {
         "data": {
          "bar": [
           {
            "error_x": {
             "color": "#2a3f5f"
            },
            "error_y": {
             "color": "#2a3f5f"
            },
            "marker": {
             "line": {
              "color": "#E5ECF6",
              "width": 0.5
             },
             "pattern": {
              "fillmode": "overlay",
              "size": 10,
              "solidity": 0.2
             }
            },
            "type": "bar"
           }
          ],
          "barpolar": [
           {
            "marker": {
             "line": {
              "color": "#E5ECF6",
              "width": 0.5
             },
             "pattern": {
              "fillmode": "overlay",
              "size": 10,
              "solidity": 0.2
             }
            },
            "type": "barpolar"
           }
          ],
          "carpet": [
           {
            "aaxis": {
             "endlinecolor": "#2a3f5f",
             "gridcolor": "white",
             "linecolor": "white",
             "minorgridcolor": "white",
             "startlinecolor": "#2a3f5f"
            },
            "baxis": {
             "endlinecolor": "#2a3f5f",
             "gridcolor": "white",
             "linecolor": "white",
             "minorgridcolor": "white",
             "startlinecolor": "#2a3f5f"
            },
            "type": "carpet"
           }
          ],
          "choropleth": [
           {
            "colorbar": {
             "outlinewidth": 0,
             "ticks": ""
            },
            "type": "choropleth"
           }
          ],
          "contour": [
           {
            "colorbar": {
             "outlinewidth": 0,
             "ticks": ""
            },
            "colorscale": [
             [
              0,
              "#0d0887"
             ],
             [
              0.1111111111111111,
              "#46039f"
             ],
             [
              0.2222222222222222,
              "#7201a8"
             ],
             [
              0.3333333333333333,
              "#9c179e"
             ],
             [
              0.4444444444444444,
              "#bd3786"
             ],
             [
              0.5555555555555556,
              "#d8576b"
             ],
             [
              0.6666666666666666,
              "#ed7953"
             ],
             [
              0.7777777777777778,
              "#fb9f3a"
             ],
             [
              0.8888888888888888,
              "#fdca26"
             ],
             [
              1,
              "#f0f921"
             ]
            ],
            "type": "contour"
           }
          ],
          "contourcarpet": [
           {
            "colorbar": {
             "outlinewidth": 0,
             "ticks": ""
            },
            "type": "contourcarpet"
           }
          ],
          "heatmap": [
           {
            "colorbar": {
             "outlinewidth": 0,
             "ticks": ""
            },
            "colorscale": [
             [
              0,
              "#0d0887"
             ],
             [
              0.1111111111111111,
              "#46039f"
             ],
             [
              0.2222222222222222,
              "#7201a8"
             ],
             [
              0.3333333333333333,
              "#9c179e"
             ],
             [
              0.4444444444444444,
              "#bd3786"
             ],
             [
              0.5555555555555556,
              "#d8576b"
             ],
             [
              0.6666666666666666,
              "#ed7953"
             ],
             [
              0.7777777777777778,
              "#fb9f3a"
             ],
             [
              0.8888888888888888,
              "#fdca26"
             ],
             [
              1,
              "#f0f921"
             ]
            ],
            "type": "heatmap"
           }
          ],
          "heatmapgl": [
           {
            "colorbar": {
             "outlinewidth": 0,
             "ticks": ""
            },
            "colorscale": [
             [
              0,
              "#0d0887"
             ],
             [
              0.1111111111111111,
              "#46039f"
             ],
             [
              0.2222222222222222,
              "#7201a8"
             ],
             [
              0.3333333333333333,
              "#9c179e"
             ],
             [
              0.4444444444444444,
              "#bd3786"
             ],
             [
              0.5555555555555556,
              "#d8576b"
             ],
             [
              0.6666666666666666,
              "#ed7953"
             ],
             [
              0.7777777777777778,
              "#fb9f3a"
             ],
             [
              0.8888888888888888,
              "#fdca26"
             ],
             [
              1,
              "#f0f921"
             ]
            ],
            "type": "heatmapgl"
           }
          ],
          "histogram": [
           {
            "marker": {
             "pattern": {
              "fillmode": "overlay",
              "size": 10,
              "solidity": 0.2
             }
            },
            "type": "histogram"
           }
          ],
          "histogram2d": [
           {
            "colorbar": {
             "outlinewidth": 0,
             "ticks": ""
            },
            "colorscale": [
             [
              0,
              "#0d0887"
             ],
             [
              0.1111111111111111,
              "#46039f"
             ],
             [
              0.2222222222222222,
              "#7201a8"
             ],
             [
              0.3333333333333333,
              "#9c179e"
             ],
             [
              0.4444444444444444,
              "#bd3786"
             ],
             [
              0.5555555555555556,
              "#d8576b"
             ],
             [
              0.6666666666666666,
              "#ed7953"
             ],
             [
              0.7777777777777778,
              "#fb9f3a"
             ],
             [
              0.8888888888888888,
              "#fdca26"
             ],
             [
              1,
              "#f0f921"
             ]
            ],
            "type": "histogram2d"
           }
          ],
          "histogram2dcontour": [
           {
            "colorbar": {
             "outlinewidth": 0,
             "ticks": ""
            },
            "colorscale": [
             [
              0,
              "#0d0887"
             ],
             [
              0.1111111111111111,
              "#46039f"
             ],
             [
              0.2222222222222222,
              "#7201a8"
             ],
             [
              0.3333333333333333,
              "#9c179e"
             ],
             [
              0.4444444444444444,
              "#bd3786"
             ],
             [
              0.5555555555555556,
              "#d8576b"
             ],
             [
              0.6666666666666666,
              "#ed7953"
             ],
             [
              0.7777777777777778,
              "#fb9f3a"
             ],
             [
              0.8888888888888888,
              "#fdca26"
             ],
             [
              1,
              "#f0f921"
             ]
            ],
            "type": "histogram2dcontour"
           }
          ],
          "mesh3d": [
           {
            "colorbar": {
             "outlinewidth": 0,
             "ticks": ""
            },
            "type": "mesh3d"
           }
          ],
          "parcoords": [
           {
            "line": {
             "colorbar": {
              "outlinewidth": 0,
              "ticks": ""
             }
            },
            "type": "parcoords"
           }
          ],
          "pie": [
           {
            "automargin": true,
            "type": "pie"
           }
          ],
          "scatter": [
           {
            "fillpattern": {
             "fillmode": "overlay",
             "size": 10,
             "solidity": 0.2
            },
            "type": "scatter"
           }
          ],
          "scatter3d": [
           {
            "line": {
             "colorbar": {
              "outlinewidth": 0,
              "ticks": ""
             }
            },
            "marker": {
             "colorbar": {
              "outlinewidth": 0,
              "ticks": ""
             }
            },
            "type": "scatter3d"
           }
          ],
          "scattercarpet": [
           {
            "marker": {
             "colorbar": {
              "outlinewidth": 0,
              "ticks": ""
             }
            },
            "type": "scattercarpet"
           }
          ],
          "scattergeo": [
           {
            "marker": {
             "colorbar": {
              "outlinewidth": 0,
              "ticks": ""
             }
            },
            "type": "scattergeo"
           }
          ],
          "scattergl": [
           {
            "marker": {
             "colorbar": {
              "outlinewidth": 0,
              "ticks": ""
             }
            },
            "type": "scattergl"
           }
          ],
          "scattermapbox": [
           {
            "marker": {
             "colorbar": {
              "outlinewidth": 0,
              "ticks": ""
             }
            },
            "type": "scattermapbox"
           }
          ],
          "scatterpolar": [
           {
            "marker": {
             "colorbar": {
              "outlinewidth": 0,
              "ticks": ""
             }
            },
            "type": "scatterpolar"
           }
          ],
          "scatterpolargl": [
           {
            "marker": {
             "colorbar": {
              "outlinewidth": 0,
              "ticks": ""
             }
            },
            "type": "scatterpolargl"
           }
          ],
          "scatterternary": [
           {
            "marker": {
             "colorbar": {
              "outlinewidth": 0,
              "ticks": ""
             }
            },
            "type": "scatterternary"
           }
          ],
          "surface": [
           {
            "colorbar": {
             "outlinewidth": 0,
             "ticks": ""
            },
            "colorscale": [
             [
              0,
              "#0d0887"
             ],
             [
              0.1111111111111111,
              "#46039f"
             ],
             [
              0.2222222222222222,
              "#7201a8"
             ],
             [
              0.3333333333333333,
              "#9c179e"
             ],
             [
              0.4444444444444444,
              "#bd3786"
             ],
             [
              0.5555555555555556,
              "#d8576b"
             ],
             [
              0.6666666666666666,
              "#ed7953"
             ],
             [
              0.7777777777777778,
              "#fb9f3a"
             ],
             [
              0.8888888888888888,
              "#fdca26"
             ],
             [
              1,
              "#f0f921"
             ]
            ],
            "type": "surface"
           }
          ],
          "table": [
           {
            "cells": {
             "fill": {
              "color": "#EBF0F8"
             },
             "line": {
              "color": "white"
             }
            },
            "header": {
             "fill": {
              "color": "#C8D4E3"
             },
             "line": {
              "color": "white"
             }
            },
            "type": "table"
           }
          ]
         },
         "layout": {
          "annotationdefaults": {
           "arrowcolor": "#2a3f5f",
           "arrowhead": 0,
           "arrowwidth": 1
          },
          "autotypenumbers": "strict",
          "coloraxis": {
           "colorbar": {
            "outlinewidth": 0,
            "ticks": ""
           }
          },
          "colorscale": {
           "diverging": [
            [
             0,
             "#8e0152"
            ],
            [
             0.1,
             "#c51b7d"
            ],
            [
             0.2,
             "#de77ae"
            ],
            [
             0.3,
             "#f1b6da"
            ],
            [
             0.4,
             "#fde0ef"
            ],
            [
             0.5,
             "#f7f7f7"
            ],
            [
             0.6,
             "#e6f5d0"
            ],
            [
             0.7,
             "#b8e186"
            ],
            [
             0.8,
             "#7fbc41"
            ],
            [
             0.9,
             "#4d9221"
            ],
            [
             1,
             "#276419"
            ]
           ],
           "sequential": [
            [
             0,
             "#0d0887"
            ],
            [
             0.1111111111111111,
             "#46039f"
            ],
            [
             0.2222222222222222,
             "#7201a8"
            ],
            [
             0.3333333333333333,
             "#9c179e"
            ],
            [
             0.4444444444444444,
             "#bd3786"
            ],
            [
             0.5555555555555556,
             "#d8576b"
            ],
            [
             0.6666666666666666,
             "#ed7953"
            ],
            [
             0.7777777777777778,
             "#fb9f3a"
            ],
            [
             0.8888888888888888,
             "#fdca26"
            ],
            [
             1,
             "#f0f921"
            ]
           ],
           "sequentialminus": [
            [
             0,
             "#0d0887"
            ],
            [
             0.1111111111111111,
             "#46039f"
            ],
            [
             0.2222222222222222,
             "#7201a8"
            ],
            [
             0.3333333333333333,
             "#9c179e"
            ],
            [
             0.4444444444444444,
             "#bd3786"
            ],
            [
             0.5555555555555556,
             "#d8576b"
            ],
            [
             0.6666666666666666,
             "#ed7953"
            ],
            [
             0.7777777777777778,
             "#fb9f3a"
            ],
            [
             0.8888888888888888,
             "#fdca26"
            ],
            [
             1,
             "#f0f921"
            ]
           ]
          },
          "colorway": [
           "#636efa",
           "#EF553B",
           "#00cc96",
           "#ab63fa",
           "#FFA15A",
           "#19d3f3",
           "#FF6692",
           "#B6E880",
           "#FF97FF",
           "#FECB52"
          ],
          "font": {
           "color": "#2a3f5f"
          },
          "geo": {
           "bgcolor": "white",
           "lakecolor": "white",
           "landcolor": "#E5ECF6",
           "showlakes": true,
           "showland": true,
           "subunitcolor": "white"
          },
          "hoverlabel": {
           "align": "left"
          },
          "hovermode": "closest",
          "mapbox": {
           "style": "light"
          },
          "paper_bgcolor": "white",
          "plot_bgcolor": "#E5ECF6",
          "polar": {
           "angularaxis": {
            "gridcolor": "white",
            "linecolor": "white",
            "ticks": ""
           },
           "bgcolor": "#E5ECF6",
           "radialaxis": {
            "gridcolor": "white",
            "linecolor": "white",
            "ticks": ""
           }
          },
          "scene": {
           "xaxis": {
            "backgroundcolor": "#E5ECF6",
            "gridcolor": "white",
            "gridwidth": 2,
            "linecolor": "white",
            "showbackground": true,
            "ticks": "",
            "zerolinecolor": "white"
           },
           "yaxis": {
            "backgroundcolor": "#E5ECF6",
            "gridcolor": "white",
            "gridwidth": 2,
            "linecolor": "white",
            "showbackground": true,
            "ticks": "",
            "zerolinecolor": "white"
           },
           "zaxis": {
            "backgroundcolor": "#E5ECF6",
            "gridcolor": "white",
            "gridwidth": 2,
            "linecolor": "white",
            "showbackground": true,
            "ticks": "",
            "zerolinecolor": "white"
           }
          },
          "shapedefaults": {
           "line": {
            "color": "#2a3f5f"
           }
          },
          "ternary": {
           "aaxis": {
            "gridcolor": "white",
            "linecolor": "white",
            "ticks": ""
           },
           "baxis": {
            "gridcolor": "white",
            "linecolor": "white",
            "ticks": ""
           },
           "bgcolor": "#E5ECF6",
           "caxis": {
            "gridcolor": "white",
            "linecolor": "white",
            "ticks": ""
           }
          },
          "title": {
           "x": 0.05
          },
          "xaxis": {
           "automargin": true,
           "gridcolor": "white",
           "linecolor": "white",
           "ticks": "",
           "title": {
            "standoff": 15
           },
           "zerolinecolor": "white",
           "zerolinewidth": 2
          },
          "yaxis": {
           "automargin": true,
           "gridcolor": "white",
           "linecolor": "white",
           "ticks": "",
           "title": {
            "standoff": 15
           },
           "zerolinecolor": "white",
           "zerolinewidth": 2
          }
         }
        },
        "xaxis": {
         "anchor": "y",
         "domain": [
          0,
          0.375
         ]
        },
        "xaxis2": {
         "anchor": "y2",
         "domain": [
          0.625,
          1
         ]
        },
        "yaxis": {
         "anchor": "x",
         "domain": [
          0,
          1
         ]
        },
        "yaxis2": {
         "anchor": "x2",
         "domain": [
          0,
          1
         ]
        }
       }
      }
     },
     "metadata": {},
     "output_type": "display_data"
    }
   ],
   "source": [
    "from plotly.subplots import make_subplots\n",
    "grid_res_data = pd.DataFrame(grid.cv_results_)\n",
    "grid_res_data.param_prepro = grid_res_data.param_prepro.astype(str).str.replace('\\(.*\\)', '')\n",
    "grid_res_data = grid_res_data.set_index('param_prepro')[['mean_test_roc_gen', 'std_test_roc_gen', 'mean_test_roc_test', 'std_test_roc_test', 'mean_fit_time', 'std_fit_time', 'mean_score_time', 'std_score_time']]\n",
    "#fig = go.Figure()\n",
    "\n",
    "fig = make_subplots(rows=1, cols=2, horizontal_spacing=0.25)\n",
    "fig.add_trace(go.Bar(\n",
    "    name='roc gen',\n",
    "    y=grid_res_data.index, x=grid_res_data['mean_test_roc_gen'],\n",
    "    error_x=dict(type='data', array=grid_res_data['std_test_roc_gen']), orientation='h'\n",
    "),row=1, col=1)\n",
    "\n",
    "fig.add_trace(go.Bar(\n",
    "    name='roc test',\n",
    "    y=grid_res_data.index, x=grid_res_data['mean_test_roc_test'],\n",
    "    error_x=dict(type='data', array=grid_res_data['std_test_roc_test']), orientation='h'\n",
    "),row=1, col=1)\n",
    "\n",
    "fig.add_trace(go.Bar(\n",
    "    name='fit time',\n",
    "    y=grid_res_data.index, x=grid_res_data['mean_fit_time'],\n",
    "    error_x=dict(type='data', array=grid_res_data['std_fit_time']), orientation='h'\n",
    "),row=1, col=2)\n",
    "\n",
    "fig.add_trace(go.Bar(\n",
    "    name='score time',\n",
    "    y=grid_res_data.index, x=grid_res_data['mean_score_time'],\n",
    "    error_x=dict(type='data', array=grid_res_data['std_score_time']), orientation='h'\n",
    "),row=1, col=2)\n",
    "fig.update_layout(barmode='group')\n",
    "fig"
   ]
  },
  {
   "cell_type": "code",
   "execution_count": 7,
   "metadata": {},
   "outputs": [],
   "source": [
    "try :\n",
    "    xtrain, xtest, ytrain, ytest = get_train_test()\n",
    "except :\n",
    "    from model.traintest import create_train_test\n",
    "    # Permet de faire la séparation données entrainement / données test avec un resampling RandomUnderSampler.\n",
    "    xtrain, xtest, ytrain, ytest = create_train_test(train_size=4000, random_state=RANDOM_STATE)\n",
    "app_features = np.load('model/data/app_columns.npy', allow_pickle=True)\n",
    "qualcols = np.load('model/data/qualcols.npy', allow_pickle=True)\n",
    "quantcols = np.load('model/data/quantcols.npy', allow_pickle=True)\n",
    "import pickle\n",
    "with open('model/data/MLE.pkl', 'rb') as handle :\n",
    "    MLE = pickle.load(handle)\n",
    "xtrain[qualcols] = MLE.transform(xtrain[qualcols])\n",
    "xtest[qualcols] = MLE.transform(xtest[qualcols])"
   ]
  },
  {
   "cell_type": "markdown",
   "metadata": {},
   "source": [
    "# <a name='III'>III. Choix de l'algorithme de classification</a>"
   ]
  },
  {
   "cell_type": "code",
   "execution_count": 8,
   "metadata": {},
   "outputs": [
    {
     "name": "stdout",
     "output_type": "stream",
     "text": [
      "Fitting 5 folds for each of 5 candidates, totalling 25 fits\n",
      "[CV 1/5] END classif=RandomForestClassifier(random_state=123), random_state=123; roc_gen: (test=0.718) roc_test: (test=0.718) total time=   5.7s\n",
      "[CV 2/5] END classif=RandomForestClassifier(random_state=123), random_state=123; roc_gen: (test=0.693) roc_test: (test=0.719) total time=   5.2s\n",
      "[CV 3/5] END classif=RandomForestClassifier(random_state=123), random_state=123; roc_gen: (test=0.675) roc_test: (test=0.721) total time=   5.2s\n",
      "[CV 4/5] END classif=RandomForestClassifier(random_state=123), random_state=123; roc_gen: (test=0.714) roc_test: (test=0.721) total time=   5.2s\n",
      "[CV 5/5] END classif=RandomForestClassifier(random_state=123), random_state=123; roc_gen: (test=0.733) roc_test: (test=0.722) total time=   5.3s\n",
      "[CV 1/5] END classif=GradientBoostingClassifier(random_state=123), random_state=123; roc_gen: (test=0.729) roc_test: (test=0.744) total time=   8.9s\n",
      "[CV 2/5] END classif=GradientBoostingClassifier(random_state=123), random_state=123; roc_gen: (test=0.717) roc_test: (test=0.745) total time=   8.9s\n",
      "[CV 3/5] END classif=GradientBoostingClassifier(random_state=123), random_state=123; roc_gen: (test=0.718) roc_test: (test=0.744) total time=   8.7s\n",
      "[CV 4/5] END classif=GradientBoostingClassifier(random_state=123), random_state=123; roc_gen: (test=0.739) roc_test: (test=0.744) total time=   8.7s\n",
      "[CV 5/5] END classif=GradientBoostingClassifier(random_state=123), random_state=123; roc_gen: (test=0.742) roc_test: (test=0.741) total time=   8.6s\n",
      "[CV 1/5] END classif=DecisionTreeClassifier(random_state=123), random_state=123; roc_gen: (test=0.589) roc_test: (test=0.582) total time=   1.0s\n",
      "[CV 2/5] END classif=DecisionTreeClassifier(random_state=123), random_state=123; roc_gen: (test=0.584) roc_test: (test=0.576) total time=   1.0s\n",
      "[CV 3/5] END classif=DecisionTreeClassifier(random_state=123), random_state=123; roc_gen: (test=0.574) roc_test: (test=0.576) total time=   1.0s\n",
      "[CV 4/5] END classif=DecisionTreeClassifier(random_state=123), random_state=123; roc_gen: (test=0.594) roc_test: (test=0.578) total time=   1.0s\n",
      "[CV 5/5] END classif=DecisionTreeClassifier(random_state=123), random_state=123; roc_gen: (test=0.591) roc_test: (test=0.580) total time=   1.0s\n",
      "[CV 1/5] END classif=GaussianNB(), random_state=123; roc_gen: (test=0.522) roc_test: (test=0.567) total time=   2.2s\n",
      "[CV 2/5] END classif=GaussianNB(), random_state=123; roc_gen: (test=0.566) roc_test: (test=0.576) total time=   2.2s\n",
      "[CV 3/5] END classif=GaussianNB(), random_state=123; roc_gen: (test=0.569) roc_test: (test=0.570) total time=   2.2s\n",
      "[CV 4/5] END classif=GaussianNB(), random_state=123; roc_gen: (test=0.598) roc_test: (test=0.578) total time=   2.2s\n",
      "[CV 5/5] END classif=GaussianNB(), random_state=123; roc_gen: (test=0.570) roc_test: (test=0.574) total time=   2.3s\n",
      "[CV 1/5] END classif=KNeighborsClassifier(), random_state=123; roc_gen: (test=0.530) roc_test: (test=0.549) total time=   2.5s\n",
      "[CV 2/5] END classif=KNeighborsClassifier(), random_state=123; roc_gen: (test=0.542) roc_test: (test=0.549) total time=   2.5s\n",
      "[CV 3/5] END classif=KNeighborsClassifier(), random_state=123; roc_gen: (test=0.528) roc_test: (test=0.549) total time=   2.5s\n",
      "[CV 4/5] END classif=KNeighborsClassifier(), random_state=123; roc_gen: (test=0.553) roc_test: (test=0.547) total time=   2.5s\n",
      "[CV 5/5] END classif=KNeighborsClassifier(), random_state=123; roc_gen: (test=0.508) roc_test: (test=0.550) total time=   2.5s\n"
     ]
    },
    {
     "data": {
      "text/html": [
       "<div>\n",
       "<style scoped>\n",
       "    .dataframe tbody tr th:only-of-type {\n",
       "        vertical-align: middle;\n",
       "    }\n",
       "\n",
       "    .dataframe tbody tr th {\n",
       "        vertical-align: top;\n",
       "    }\n",
       "\n",
       "    .dataframe thead th {\n",
       "        text-align: right;\n",
       "    }\n",
       "</style>\n",
       "<table border=\"1\" class=\"dataframe\">\n",
       "  <thead>\n",
       "    <tr style=\"text-align: right;\">\n",
       "      <th></th>\n",
       "      <th>mean_fit_time</th>\n",
       "      <th>std_fit_time</th>\n",
       "      <th>mean_score_time</th>\n",
       "      <th>std_score_time</th>\n",
       "      <th>param_classif</th>\n",
       "      <th>param_random_state</th>\n",
       "      <th>params</th>\n",
       "      <th>split0_test_roc_gen</th>\n",
       "      <th>split1_test_roc_gen</th>\n",
       "      <th>split2_test_roc_gen</th>\n",
       "      <th>...</th>\n",
       "      <th>std_test_roc_gen</th>\n",
       "      <th>rank_test_roc_gen</th>\n",
       "      <th>split0_test_roc_test</th>\n",
       "      <th>split1_test_roc_test</th>\n",
       "      <th>split2_test_roc_test</th>\n",
       "      <th>split3_test_roc_test</th>\n",
       "      <th>split4_test_roc_test</th>\n",
       "      <th>mean_test_roc_test</th>\n",
       "      <th>std_test_roc_test</th>\n",
       "      <th>rank_test_roc_test</th>\n",
       "    </tr>\n",
       "  </thead>\n",
       "  <tbody>\n",
       "    <tr>\n",
       "      <th>0</th>\n",
       "      <td>1.196808</td>\n",
       "      <td>0.011349</td>\n",
       "      <td>4.239592</td>\n",
       "      <td>0.203533</td>\n",
       "      <td>RandomForestClassifier(random_state=123)</td>\n",
       "      <td>123</td>\n",
       "      <td>{'classif': RandomForestClassifier(random_stat...</td>\n",
       "      <td>0.718412</td>\n",
       "      <td>0.692754</td>\n",
       "      <td>0.674925</td>\n",
       "      <td>...</td>\n",
       "      <td>0.020458</td>\n",
       "      <td>2</td>\n",
       "      <td>0.717838</td>\n",
       "      <td>0.718933</td>\n",
       "      <td>0.720652</td>\n",
       "      <td>0.720504</td>\n",
       "      <td>0.722176</td>\n",
       "      <td>0.720021</td>\n",
       "      <td>0.001498</td>\n",
       "      <td>2</td>\n",
       "    </tr>\n",
       "    <tr>\n",
       "      <th>1</th>\n",
       "      <td>7.096874</td>\n",
       "      <td>0.096821</td>\n",
       "      <td>1.763808</td>\n",
       "      <td>0.020273</td>\n",
       "      <td>GradientBoostingClassifier(random_state=123)</td>\n",
       "      <td>123</td>\n",
       "      <td>{'classif': GradientBoostingClassifier(random_...</td>\n",
       "      <td>0.728751</td>\n",
       "      <td>0.716765</td>\n",
       "      <td>0.717523</td>\n",
       "      <td>...</td>\n",
       "      <td>0.010530</td>\n",
       "      <td>1</td>\n",
       "      <td>0.743853</td>\n",
       "      <td>0.745013</td>\n",
       "      <td>0.744203</td>\n",
       "      <td>0.744365</td>\n",
       "      <td>0.740517</td>\n",
       "      <td>0.743590</td>\n",
       "      <td>0.001582</td>\n",
       "      <td>1</td>\n",
       "    </tr>\n",
       "    <tr>\n",
       "      <th>2</th>\n",
       "      <td>0.333800</td>\n",
       "      <td>0.012951</td>\n",
       "      <td>0.769601</td>\n",
       "      <td>0.010538</td>\n",
       "      <td>DecisionTreeClassifier(random_state=123)</td>\n",
       "      <td>123</td>\n",
       "      <td>{'classif': DecisionTreeClassifier(random_stat...</td>\n",
       "      <td>0.588939</td>\n",
       "      <td>0.584096</td>\n",
       "      <td>0.574140</td>\n",
       "      <td>...</td>\n",
       "      <td>0.006874</td>\n",
       "      <td>3</td>\n",
       "      <td>0.582485</td>\n",
       "      <td>0.576192</td>\n",
       "      <td>0.575507</td>\n",
       "      <td>0.577600</td>\n",
       "      <td>0.580265</td>\n",
       "      <td>0.578410</td>\n",
       "      <td>0.002610</td>\n",
       "      <td>3</td>\n",
       "    </tr>\n",
       "    <tr>\n",
       "      <th>3</th>\n",
       "      <td>0.039400</td>\n",
       "      <td>0.002647</td>\n",
       "      <td>2.286806</td>\n",
       "      <td>0.013225</td>\n",
       "      <td>GaussianNB()</td>\n",
       "      <td>123</td>\n",
       "      <td>{'classif': GaussianNB(), 'random_state': 123}</td>\n",
       "      <td>0.522268</td>\n",
       "      <td>0.565513</td>\n",
       "      <td>0.569350</td>\n",
       "      <td>...</td>\n",
       "      <td>0.024294</td>\n",
       "      <td>4</td>\n",
       "      <td>0.566560</td>\n",
       "      <td>0.576239</td>\n",
       "      <td>0.569744</td>\n",
       "      <td>0.577635</td>\n",
       "      <td>0.573508</td>\n",
       "      <td>0.572737</td>\n",
       "      <td>0.004098</td>\n",
       "      <td>4</td>\n",
       "    </tr>\n",
       "    <tr>\n",
       "      <th>4</th>\n",
       "      <td>0.025991</td>\n",
       "      <td>0.001089</td>\n",
       "      <td>2.582206</td>\n",
       "      <td>0.013830</td>\n",
       "      <td>KNeighborsClassifier()</td>\n",
       "      <td>123</td>\n",
       "      <td>{'classif': KNeighborsClassifier(), 'random_st...</td>\n",
       "      <td>0.530104</td>\n",
       "      <td>0.542210</td>\n",
       "      <td>0.528236</td>\n",
       "      <td>...</td>\n",
       "      <td>0.014993</td>\n",
       "      <td>5</td>\n",
       "      <td>0.548675</td>\n",
       "      <td>0.549210</td>\n",
       "      <td>0.549457</td>\n",
       "      <td>0.547121</td>\n",
       "      <td>0.550385</td>\n",
       "      <td>0.548970</td>\n",
       "      <td>0.001077</td>\n",
       "      <td>5</td>\n",
       "    </tr>\n",
       "  </tbody>\n",
       "</table>\n",
       "<p>5 rows × 23 columns</p>\n",
       "</div>"
      ],
      "text/plain": [
       "   mean_fit_time  std_fit_time  mean_score_time  std_score_time  \\\n",
       "0       1.196808      0.011349         4.239592        0.203533   \n",
       "1       7.096874      0.096821         1.763808        0.020273   \n",
       "2       0.333800      0.012951         0.769601        0.010538   \n",
       "3       0.039400      0.002647         2.286806        0.013225   \n",
       "4       0.025991      0.001089         2.582206        0.013830   \n",
       "\n",
       "                                  param_classif param_random_state  \\\n",
       "0      RandomForestClassifier(random_state=123)                123   \n",
       "1  GradientBoostingClassifier(random_state=123)                123   \n",
       "2      DecisionTreeClassifier(random_state=123)                123   \n",
       "3                                  GaussianNB()                123   \n",
       "4                        KNeighborsClassifier()                123   \n",
       "\n",
       "                                              params  split0_test_roc_gen  \\\n",
       "0  {'classif': RandomForestClassifier(random_stat...             0.718412   \n",
       "1  {'classif': GradientBoostingClassifier(random_...             0.728751   \n",
       "2  {'classif': DecisionTreeClassifier(random_stat...             0.588939   \n",
       "3     {'classif': GaussianNB(), 'random_state': 123}             0.522268   \n",
       "4  {'classif': KNeighborsClassifier(), 'random_st...             0.530104   \n",
       "\n",
       "   split1_test_roc_gen  split2_test_roc_gen  ...  std_test_roc_gen  \\\n",
       "0             0.692754             0.674925  ...          0.020458   \n",
       "1             0.716765             0.717523  ...          0.010530   \n",
       "2             0.584096             0.574140  ...          0.006874   \n",
       "3             0.565513             0.569350  ...          0.024294   \n",
       "4             0.542210             0.528236  ...          0.014993   \n",
       "\n",
       "   rank_test_roc_gen  split0_test_roc_test  split1_test_roc_test  \\\n",
       "0                  2              0.717838              0.718933   \n",
       "1                  1              0.743853              0.745013   \n",
       "2                  3              0.582485              0.576192   \n",
       "3                  4              0.566560              0.576239   \n",
       "4                  5              0.548675              0.549210   \n",
       "\n",
       "   split2_test_roc_test  split3_test_roc_test  split4_test_roc_test  \\\n",
       "0              0.720652              0.720504              0.722176   \n",
       "1              0.744203              0.744365              0.740517   \n",
       "2              0.575507              0.577600              0.580265   \n",
       "3              0.569744              0.577635              0.573508   \n",
       "4              0.549457              0.547121              0.550385   \n",
       "\n",
       "   mean_test_roc_test  std_test_roc_test  rank_test_roc_test  \n",
       "0            0.720021           0.001498                   2  \n",
       "1            0.743590           0.001582                   1  \n",
       "2            0.578410           0.002610                   3  \n",
       "3            0.572737           0.004098                   4  \n",
       "4            0.548970           0.001077                   5  \n",
       "\n",
       "[5 rows x 23 columns]"
      ]
     },
     "execution_count": 8,
     "metadata": {},
     "output_type": "execute_result"
    }
   ],
   "source": [
    "from sklearn.model_selection import GridSearchCV\n",
    "from sklearn.ensemble import RandomForestClassifier, GradientBoostingClassifier\n",
    "from sklearn.tree import DecisionTreeClassifier\n",
    "from sklearn.naive_bayes import GaussianNB\n",
    "from sklearn.neighbors import KNeighborsClassifier\n",
    "\n",
    "features = xtrain.columns[1:]\n",
    "rfc = MasterModel(features=features, random_state=RANDOM_STATE)\n",
    "\n",
    "param_grid = {\n",
    "    'random_state' : [RANDOM_STATE],\n",
    "    'classif' : [\n",
    "        RandomForestClassifier(random_state=RANDOM_STATE), \n",
    "        GradientBoostingClassifier(random_state=RANDOM_STATE),\n",
    "        DecisionTreeClassifier(random_state=RANDOM_STATE),                                \n",
    "        GaussianNB(),\n",
    "        KNeighborsClassifier(),\n",
    "        ]\n",
    "}\n",
    "\n",
    "scoring = {\n",
    "    'roc_gen' : MasterModel.score,\n",
    "    'roc_test' : lambda est, x, y : MasterModel.score(est, xtest, ytest)\n",
    "}\n",
    "\n",
    "grid = GridSearchCV(rfc, param_grid=param_grid, scoring= scoring, verbose=3, refit='roc_gen', cv = 5)\n",
    "grid.fit(xtrain, ytrain.TARGET.ravel())\n",
    "pd.DataFrame(grid.cv_results_)"
   ]
  },
  {
   "cell_type": "code",
   "execution_count": 9,
   "metadata": {},
   "outputs": [
    {
     "name": "stderr",
     "output_type": "stream",
     "text": [
      "C:\\Users\\Julien\\AppData\\Local\\Temp\\ipykernel_11472\\3018178248.py:2: FutureWarning:\n",
      "\n",
      "The default value of regex will change from True to False in a future version.\n",
      "\n"
     ]
    },
    {
     "data": {
      "application/vnd.plotly.v1+json": {
       "config": {
        "plotlyServerURL": "https://plot.ly"
       },
       "data": [
        {
         "error_x": {
          "array": [
           0.02045816315044136,
           0.010530053688579734,
           0.006873737115386151,
           0.02429397885455602,
           0.014993326034523172
          ],
          "type": "data"
         },
         "name": "roc gen",
         "orientation": "h",
         "type": "bar",
         "x": [
          0.7066200654254274,
          0.7288518263923077,
          0.5863715151755554,
          0.5650116717236944,
          0.5322188002780075
         ],
         "xaxis": "x",
         "y": [
          "RandomForestClassifier",
          "GradientBoostingClassifier",
          "DecisionTreeClassifier",
          "GaussianNB",
          "KNeighborsClassifier"
         ],
         "yaxis": "y"
        },
        {
         "error_x": {
          "array": [
           0.0014981601584560468,
           0.001582130740585132,
           0.002609776319497122,
           0.004097955684687691,
           0.0010774083166466748
          ],
          "type": "data"
         },
         "name": "roc test",
         "orientation": "h",
         "type": "bar",
         "x": [
          0.7200206570931623,
          0.7435902878066891,
          0.5784096894521595,
          0.5727371936237894,
          0.5489696399821474
         ],
         "xaxis": "x",
         "y": [
          "RandomForestClassifier",
          "GradientBoostingClassifier",
          "DecisionTreeClassifier",
          "GaussianNB",
          "KNeighborsClassifier"
         ],
         "yaxis": "y"
        },
        {
         "error_x": {
          "array": [
           0.0113487918601313,
           0.0968205905856841,
           0.012951236253059174,
           0.002647271717476489,
           0.0010885996551524538
          ],
          "type": "data"
         },
         "name": "fit time",
         "orientation": "h",
         "type": "bar",
         "x": [
          1.196808433532715,
          7.096873998641968,
          0.3337996006011963,
          0.03940000534057617,
          0.025991487503051757
         ],
         "xaxis": "x2",
         "y": [
          "RandomForestClassifier",
          "GradientBoostingClassifier",
          "DecisionTreeClassifier",
          "GaussianNB",
          "KNeighborsClassifier"
         ],
         "yaxis": "y2"
        },
        {
         "error_x": {
          "array": [
           0.20353301221599063,
           0.02027284356045719,
           0.010538484265843352,
           0.013225216951982253,
           0.013829550125007138
          ],
          "type": "data"
         },
         "name": "score time",
         "orientation": "h",
         "type": "bar",
         "x": [
          4.239592456817627,
          1.7638081073760987,
          0.7696005821228027,
          2.286805582046509,
          2.582206201553345
         ],
         "xaxis": "x2",
         "y": [
          "RandomForestClassifier",
          "GradientBoostingClassifier",
          "DecisionTreeClassifier",
          "GaussianNB",
          "KNeighborsClassifier"
         ],
         "yaxis": "y2"
        }
       ],
       "layout": {
        "barmode": "group",
        "template": {
         "data": {
          "bar": [
           {
            "error_x": {
             "color": "#2a3f5f"
            },
            "error_y": {
             "color": "#2a3f5f"
            },
            "marker": {
             "line": {
              "color": "#E5ECF6",
              "width": 0.5
             },
             "pattern": {
              "fillmode": "overlay",
              "size": 10,
              "solidity": 0.2
             }
            },
            "type": "bar"
           }
          ],
          "barpolar": [
           {
            "marker": {
             "line": {
              "color": "#E5ECF6",
              "width": 0.5
             },
             "pattern": {
              "fillmode": "overlay",
              "size": 10,
              "solidity": 0.2
             }
            },
            "type": "barpolar"
           }
          ],
          "carpet": [
           {
            "aaxis": {
             "endlinecolor": "#2a3f5f",
             "gridcolor": "white",
             "linecolor": "white",
             "minorgridcolor": "white",
             "startlinecolor": "#2a3f5f"
            },
            "baxis": {
             "endlinecolor": "#2a3f5f",
             "gridcolor": "white",
             "linecolor": "white",
             "minorgridcolor": "white",
             "startlinecolor": "#2a3f5f"
            },
            "type": "carpet"
           }
          ],
          "choropleth": [
           {
            "colorbar": {
             "outlinewidth": 0,
             "ticks": ""
            },
            "type": "choropleth"
           }
          ],
          "contour": [
           {
            "colorbar": {
             "outlinewidth": 0,
             "ticks": ""
            },
            "colorscale": [
             [
              0,
              "#0d0887"
             ],
             [
              0.1111111111111111,
              "#46039f"
             ],
             [
              0.2222222222222222,
              "#7201a8"
             ],
             [
              0.3333333333333333,
              "#9c179e"
             ],
             [
              0.4444444444444444,
              "#bd3786"
             ],
             [
              0.5555555555555556,
              "#d8576b"
             ],
             [
              0.6666666666666666,
              "#ed7953"
             ],
             [
              0.7777777777777778,
              "#fb9f3a"
             ],
             [
              0.8888888888888888,
              "#fdca26"
             ],
             [
              1,
              "#f0f921"
             ]
            ],
            "type": "contour"
           }
          ],
          "contourcarpet": [
           {
            "colorbar": {
             "outlinewidth": 0,
             "ticks": ""
            },
            "type": "contourcarpet"
           }
          ],
          "heatmap": [
           {
            "colorbar": {
             "outlinewidth": 0,
             "ticks": ""
            },
            "colorscale": [
             [
              0,
              "#0d0887"
             ],
             [
              0.1111111111111111,
              "#46039f"
             ],
             [
              0.2222222222222222,
              "#7201a8"
             ],
             [
              0.3333333333333333,
              "#9c179e"
             ],
             [
              0.4444444444444444,
              "#bd3786"
             ],
             [
              0.5555555555555556,
              "#d8576b"
             ],
             [
              0.6666666666666666,
              "#ed7953"
             ],
             [
              0.7777777777777778,
              "#fb9f3a"
             ],
             [
              0.8888888888888888,
              "#fdca26"
             ],
             [
              1,
              "#f0f921"
             ]
            ],
            "type": "heatmap"
           }
          ],
          "heatmapgl": [
           {
            "colorbar": {
             "outlinewidth": 0,
             "ticks": ""
            },
            "colorscale": [
             [
              0,
              "#0d0887"
             ],
             [
              0.1111111111111111,
              "#46039f"
             ],
             [
              0.2222222222222222,
              "#7201a8"
             ],
             [
              0.3333333333333333,
              "#9c179e"
             ],
             [
              0.4444444444444444,
              "#bd3786"
             ],
             [
              0.5555555555555556,
              "#d8576b"
             ],
             [
              0.6666666666666666,
              "#ed7953"
             ],
             [
              0.7777777777777778,
              "#fb9f3a"
             ],
             [
              0.8888888888888888,
              "#fdca26"
             ],
             [
              1,
              "#f0f921"
             ]
            ],
            "type": "heatmapgl"
           }
          ],
          "histogram": [
           {
            "marker": {
             "pattern": {
              "fillmode": "overlay",
              "size": 10,
              "solidity": 0.2
             }
            },
            "type": "histogram"
           }
          ],
          "histogram2d": [
           {
            "colorbar": {
             "outlinewidth": 0,
             "ticks": ""
            },
            "colorscale": [
             [
              0,
              "#0d0887"
             ],
             [
              0.1111111111111111,
              "#46039f"
             ],
             [
              0.2222222222222222,
              "#7201a8"
             ],
             [
              0.3333333333333333,
              "#9c179e"
             ],
             [
              0.4444444444444444,
              "#bd3786"
             ],
             [
              0.5555555555555556,
              "#d8576b"
             ],
             [
              0.6666666666666666,
              "#ed7953"
             ],
             [
              0.7777777777777778,
              "#fb9f3a"
             ],
             [
              0.8888888888888888,
              "#fdca26"
             ],
             [
              1,
              "#f0f921"
             ]
            ],
            "type": "histogram2d"
           }
          ],
          "histogram2dcontour": [
           {
            "colorbar": {
             "outlinewidth": 0,
             "ticks": ""
            },
            "colorscale": [
             [
              0,
              "#0d0887"
             ],
             [
              0.1111111111111111,
              "#46039f"
             ],
             [
              0.2222222222222222,
              "#7201a8"
             ],
             [
              0.3333333333333333,
              "#9c179e"
             ],
             [
              0.4444444444444444,
              "#bd3786"
             ],
             [
              0.5555555555555556,
              "#d8576b"
             ],
             [
              0.6666666666666666,
              "#ed7953"
             ],
             [
              0.7777777777777778,
              "#fb9f3a"
             ],
             [
              0.8888888888888888,
              "#fdca26"
             ],
             [
              1,
              "#f0f921"
             ]
            ],
            "type": "histogram2dcontour"
           }
          ],
          "mesh3d": [
           {
            "colorbar": {
             "outlinewidth": 0,
             "ticks": ""
            },
            "type": "mesh3d"
           }
          ],
          "parcoords": [
           {
            "line": {
             "colorbar": {
              "outlinewidth": 0,
              "ticks": ""
             }
            },
            "type": "parcoords"
           }
          ],
          "pie": [
           {
            "automargin": true,
            "type": "pie"
           }
          ],
          "scatter": [
           {
            "fillpattern": {
             "fillmode": "overlay",
             "size": 10,
             "solidity": 0.2
            },
            "type": "scatter"
           }
          ],
          "scatter3d": [
           {
            "line": {
             "colorbar": {
              "outlinewidth": 0,
              "ticks": ""
             }
            },
            "marker": {
             "colorbar": {
              "outlinewidth": 0,
              "ticks": ""
             }
            },
            "type": "scatter3d"
           }
          ],
          "scattercarpet": [
           {
            "marker": {
             "colorbar": {
              "outlinewidth": 0,
              "ticks": ""
             }
            },
            "type": "scattercarpet"
           }
          ],
          "scattergeo": [
           {
            "marker": {
             "colorbar": {
              "outlinewidth": 0,
              "ticks": ""
             }
            },
            "type": "scattergeo"
           }
          ],
          "scattergl": [
           {
            "marker": {
             "colorbar": {
              "outlinewidth": 0,
              "ticks": ""
             }
            },
            "type": "scattergl"
           }
          ],
          "scattermapbox": [
           {
            "marker": {
             "colorbar": {
              "outlinewidth": 0,
              "ticks": ""
             }
            },
            "type": "scattermapbox"
           }
          ],
          "scatterpolar": [
           {
            "marker": {
             "colorbar": {
              "outlinewidth": 0,
              "ticks": ""
             }
            },
            "type": "scatterpolar"
           }
          ],
          "scatterpolargl": [
           {
            "marker": {
             "colorbar": {
              "outlinewidth": 0,
              "ticks": ""
             }
            },
            "type": "scatterpolargl"
           }
          ],
          "scatterternary": [
           {
            "marker": {
             "colorbar": {
              "outlinewidth": 0,
              "ticks": ""
             }
            },
            "type": "scatterternary"
           }
          ],
          "surface": [
           {
            "colorbar": {
             "outlinewidth": 0,
             "ticks": ""
            },
            "colorscale": [
             [
              0,
              "#0d0887"
             ],
             [
              0.1111111111111111,
              "#46039f"
             ],
             [
              0.2222222222222222,
              "#7201a8"
             ],
             [
              0.3333333333333333,
              "#9c179e"
             ],
             [
              0.4444444444444444,
              "#bd3786"
             ],
             [
              0.5555555555555556,
              "#d8576b"
             ],
             [
              0.6666666666666666,
              "#ed7953"
             ],
             [
              0.7777777777777778,
              "#fb9f3a"
             ],
             [
              0.8888888888888888,
              "#fdca26"
             ],
             [
              1,
              "#f0f921"
             ]
            ],
            "type": "surface"
           }
          ],
          "table": [
           {
            "cells": {
             "fill": {
              "color": "#EBF0F8"
             },
             "line": {
              "color": "white"
             }
            },
            "header": {
             "fill": {
              "color": "#C8D4E3"
             },
             "line": {
              "color": "white"
             }
            },
            "type": "table"
           }
          ]
         },
         "layout": {
          "annotationdefaults": {
           "arrowcolor": "#2a3f5f",
           "arrowhead": 0,
           "arrowwidth": 1
          },
          "autotypenumbers": "strict",
          "coloraxis": {
           "colorbar": {
            "outlinewidth": 0,
            "ticks": ""
           }
          },
          "colorscale": {
           "diverging": [
            [
             0,
             "#8e0152"
            ],
            [
             0.1,
             "#c51b7d"
            ],
            [
             0.2,
             "#de77ae"
            ],
            [
             0.3,
             "#f1b6da"
            ],
            [
             0.4,
             "#fde0ef"
            ],
            [
             0.5,
             "#f7f7f7"
            ],
            [
             0.6,
             "#e6f5d0"
            ],
            [
             0.7,
             "#b8e186"
            ],
            [
             0.8,
             "#7fbc41"
            ],
            [
             0.9,
             "#4d9221"
            ],
            [
             1,
             "#276419"
            ]
           ],
           "sequential": [
            [
             0,
             "#0d0887"
            ],
            [
             0.1111111111111111,
             "#46039f"
            ],
            [
             0.2222222222222222,
             "#7201a8"
            ],
            [
             0.3333333333333333,
             "#9c179e"
            ],
            [
             0.4444444444444444,
             "#bd3786"
            ],
            [
             0.5555555555555556,
             "#d8576b"
            ],
            [
             0.6666666666666666,
             "#ed7953"
            ],
            [
             0.7777777777777778,
             "#fb9f3a"
            ],
            [
             0.8888888888888888,
             "#fdca26"
            ],
            [
             1,
             "#f0f921"
            ]
           ],
           "sequentialminus": [
            [
             0,
             "#0d0887"
            ],
            [
             0.1111111111111111,
             "#46039f"
            ],
            [
             0.2222222222222222,
             "#7201a8"
            ],
            [
             0.3333333333333333,
             "#9c179e"
            ],
            [
             0.4444444444444444,
             "#bd3786"
            ],
            [
             0.5555555555555556,
             "#d8576b"
            ],
            [
             0.6666666666666666,
             "#ed7953"
            ],
            [
             0.7777777777777778,
             "#fb9f3a"
            ],
            [
             0.8888888888888888,
             "#fdca26"
            ],
            [
             1,
             "#f0f921"
            ]
           ]
          },
          "colorway": [
           "#636efa",
           "#EF553B",
           "#00cc96",
           "#ab63fa",
           "#FFA15A",
           "#19d3f3",
           "#FF6692",
           "#B6E880",
           "#FF97FF",
           "#FECB52"
          ],
          "font": {
           "color": "#2a3f5f"
          },
          "geo": {
           "bgcolor": "white",
           "lakecolor": "white",
           "landcolor": "#E5ECF6",
           "showlakes": true,
           "showland": true,
           "subunitcolor": "white"
          },
          "hoverlabel": {
           "align": "left"
          },
          "hovermode": "closest",
          "mapbox": {
           "style": "light"
          },
          "paper_bgcolor": "white",
          "plot_bgcolor": "#E5ECF6",
          "polar": {
           "angularaxis": {
            "gridcolor": "white",
            "linecolor": "white",
            "ticks": ""
           },
           "bgcolor": "#E5ECF6",
           "radialaxis": {
            "gridcolor": "white",
            "linecolor": "white",
            "ticks": ""
           }
          },
          "scene": {
           "xaxis": {
            "backgroundcolor": "#E5ECF6",
            "gridcolor": "white",
            "gridwidth": 2,
            "linecolor": "white",
            "showbackground": true,
            "ticks": "",
            "zerolinecolor": "white"
           },
           "yaxis": {
            "backgroundcolor": "#E5ECF6",
            "gridcolor": "white",
            "gridwidth": 2,
            "linecolor": "white",
            "showbackground": true,
            "ticks": "",
            "zerolinecolor": "white"
           },
           "zaxis": {
            "backgroundcolor": "#E5ECF6",
            "gridcolor": "white",
            "gridwidth": 2,
            "linecolor": "white",
            "showbackground": true,
            "ticks": "",
            "zerolinecolor": "white"
           }
          },
          "shapedefaults": {
           "line": {
            "color": "#2a3f5f"
           }
          },
          "ternary": {
           "aaxis": {
            "gridcolor": "white",
            "linecolor": "white",
            "ticks": ""
           },
           "baxis": {
            "gridcolor": "white",
            "linecolor": "white",
            "ticks": ""
           },
           "bgcolor": "#E5ECF6",
           "caxis": {
            "gridcolor": "white",
            "linecolor": "white",
            "ticks": ""
           }
          },
          "title": {
           "x": 0.05
          },
          "xaxis": {
           "automargin": true,
           "gridcolor": "white",
           "linecolor": "white",
           "ticks": "",
           "title": {
            "standoff": 15
           },
           "zerolinecolor": "white",
           "zerolinewidth": 2
          },
          "yaxis": {
           "automargin": true,
           "gridcolor": "white",
           "linecolor": "white",
           "ticks": "",
           "title": {
            "standoff": 15
           },
           "zerolinecolor": "white",
           "zerolinewidth": 2
          }
         }
        },
        "xaxis": {
         "anchor": "y",
         "domain": [
          0,
          0.375
         ]
        },
        "xaxis2": {
         "anchor": "y2",
         "domain": [
          0.625,
          1
         ]
        },
        "yaxis": {
         "anchor": "x",
         "domain": [
          0,
          1
         ]
        },
        "yaxis2": {
         "anchor": "x2",
         "domain": [
          0,
          1
         ]
        }
       }
      }
     },
     "metadata": {},
     "output_type": "display_data"
    }
   ],
   "source": [
    "grid_res_data = pd.DataFrame(grid.cv_results_)\n",
    "grid_res_data.param_classif = grid_res_data.param_classif.astype(str).str.replace('\\(.*\\)', '')\n",
    "grid_res_data = grid_res_data.set_index('param_classif')[['mean_test_roc_gen', 'std_test_roc_gen', 'mean_test_roc_test', 'std_test_roc_test', 'mean_fit_time', 'std_fit_time', 'mean_score_time', 'std_score_time']]\n",
    "\n",
    "from plotly.subplots import make_subplots\n",
    "fig = make_subplots(rows=1, cols=2, horizontal_spacing=0.25)\n",
    "fig.add_trace(go.Bar(\n",
    "    name='roc gen',\n",
    "    y=grid_res_data.index, x=grid_res_data['mean_test_roc_gen'],\n",
    "    error_x=dict(type='data', array=grid_res_data['std_test_roc_gen']), orientation='h'\n",
    "),row=1, col=1)\n",
    "\n",
    "fig.add_trace(go.Bar(\n",
    "    name='roc test',\n",
    "    y=grid_res_data.index, x=grid_res_data['mean_test_roc_test'],\n",
    "    error_x=dict(type='data', array=grid_res_data['std_test_roc_test']), orientation='h'\n",
    "),row=1, col=1)\n",
    "\n",
    "fig.add_trace(go.Bar(\n",
    "    name='fit time',\n",
    "    y=grid_res_data.index, x=grid_res_data['mean_fit_time'],\n",
    "    error_x=dict(type='data', array=grid_res_data['std_fit_time']), orientation='h'\n",
    "),row=1, col=2)\n",
    "\n",
    "fig.add_trace(go.Bar(\n",
    "    name='score time',\n",
    "    y=grid_res_data.index, x=grid_res_data['mean_score_time'],\n",
    "    error_x=dict(type='data', array=grid_res_data['std_score_time']), orientation='h'\n",
    "),row=1, col=2)\n",
    "fig.update_layout(barmode='group')\n",
    "fig"
   ]
  },
  {
   "cell_type": "markdown",
   "metadata": {},
   "source": [
    "# <a name='IV'>IV. Fonctions coût métier</a>"
   ]
  },
  {
   "cell_type": "code",
   "execution_count": 10,
   "metadata": {},
   "outputs": [
    {
     "data": {
      "text/plain": [
       "array([[0.62306209, 0.37693791],\n",
       "       [0.25803312, 0.74196688],\n",
       "       [0.57307503, 0.42692497],\n",
       "       ...,\n",
       "       [0.74269231, 0.25730769],\n",
       "       [0.39269811, 0.60730189],\n",
       "       [0.23782447, 0.76217553]])"
      ]
     },
     "execution_count": 10,
     "metadata": {},
     "output_type": "execute_result"
    }
   ],
   "source": [
    "bec = grid.best_estimator_\n",
    "bec.save_predict(xtest, ytest)\n",
    "# Calcul les valeurs de la fonction coût métier en fonction du taux d'interêt et du seuil.\n",
    "exp_cost_func, optimized_triggers = bec.exploratory_cost_func(loan_rate_list=np.linspace(0,0.5,51))\n",
    "\n",
    "# Récupère valeurs TP, TN, FP et FN\n",
    "data_TF_PN = exp_cost_func[exp_cost_func.loan_rate==0].set_index('trigger')[['TP','TN']]\n",
    "data_TF_PN['FP'] = 1 - data_TF_PN['TP'] \n",
    "data_TF_PN['FN'] = 1 - data_TF_PN['TN']\n",
    "data_TF_PN.columns = ['Rembourse et Acc.', 'Rembourse Pas et Non Acc.', 'Rembourse et Non Acc.', 'Rembourse Pas et Acc.']\n",
    "data_TF_PN = data_TF_PN.unstack().reset_index()\n",
    "data_TF_PN.columns = ['type','trigger','value']\n",
    "data_TF_PN"
   ]
  },
  {
   "cell_type": "code",
   "execution_count": 13,
   "metadata": {},
   "outputs": [
    {
     "data": {
      "application/vnd.plotly.v1+json": {
       "config": {
        "plotlyServerURL": "https://plot.ly"
       },
       "data": [
        {
         "hovertemplate": "loan_rate=0.0<br>trigger=%{x}<br>cost=%{y}<extra></extra>",
         "legendgroup": "0.0",
         "line": {
          "color": "#636efa",
          "dash": "solid"
         },
         "marker": {
          "symbol": "circle"
         },
         "mode": "lines",
         "name": "T=0.0",
         "orientation": "v",
         "showlegend": true,
         "type": "scatter",
         "x": [
          0,
          0.01,
          0.02,
          0.03,
          0.04,
          0.05,
          0.06,
          0.07,
          0.08,
          0.09,
          0.1,
          0.11,
          0.12,
          0.13,
          0.14,
          0.15,
          0.16,
          0.17,
          0.18,
          0.19,
          0.2,
          0.21,
          0.22,
          0.23,
          0.24,
          0.25,
          0.26,
          0.27,
          0.28,
          0.29,
          0.3,
          0.31,
          0.32,
          0.33,
          0.34,
          0.35000000000000003,
          0.36,
          0.37,
          0.38,
          0.39,
          0.4,
          0.41000000000000003,
          0.42,
          0.43,
          0.44,
          0.45,
          0.46,
          0.47000000000000003,
          0.48,
          0.49,
          0.5,
          0.51,
          0.52,
          0.53,
          0.54,
          0.55,
          0.56,
          0.5700000000000001,
          0.58,
          0.59,
          0.6,
          0.61,
          0.62,
          0.63,
          0.64,
          0.65,
          0.66,
          0.67,
          0.68,
          0.6900000000000001,
          0.7000000000000001,
          0.71,
          0.72,
          0.73,
          0.74,
          0.75,
          0.76,
          0.77,
          0.78,
          0.79,
          0.8,
          0.81,
          0.8200000000000001,
          0.8300000000000001,
          0.84,
          0.85,
          0.86,
          0.87,
          0.88,
          0.89,
          0.9,
          0.91,
          0.92,
          0.93,
          0.9400000000000001,
          0.9500000000000001,
          0.96,
          0.97,
          0.98,
          0.99,
          1
         ],
         "xaxis": "x",
         "y": [
          -0.06772417607280223,
          -0.06772417607280223,
          -0.06772417607280223,
          -0.06772417607280223,
          -0.06772417607280223,
          -0.06771412051585007,
          -0.0676839538449936,
          -0.06760350938937632,
          -0.06744262047814174,
          -0.0671711204404334,
          -0.06674878704844266,
          -0.06624600920083462,
          -0.06562256466980065,
          -0.06490359234772117,
          -0.06406898112069183,
          -0.06322934211518641,
          -0.06236456421730059,
          -0.06145956409160613,
          -0.06035345282686845,
          -0.059232258226702535,
          -0.0580658136202519,
          -0.05687423012142086,
          -0.05561728550240077,
          -0.05437542421880892,
          -0.05308831292893235,
          -0.05186153498076875,
          -0.05064984036803339,
          -0.049297367957967776,
          -0.04799517333266297,
          -0.04675331204907112,
          -0.04540083963900551,
          -0.0440986450137007,
          -0.04284672817315669,
          -0.04140878352899772,
          -0.040101561125216824,
          -0.03872394982277081,
          -0.03732622740642048,
          -0.03603408833806783,
          -0.03464642147866965,
          -0.033354282410317,
          -0.03212247668367732,
          -0.03081525427989643,
          -0.029447698534402576,
          -0.028120365016717365,
          -0.02671258704341487,
          -0.025370170190301418,
          -0.024344503381181028,
          -0.02320822544558687,
          -0.022127253073229596,
          -0.02100605847306368,
          -0.019945197214610726,
          -0.018929585962442496,
          -0.01792905804570251,
          -0.016998919027627644,
          -0.016003418889363737,
          -0.015098418763669274,
          -0.014228613087307374,
          -0.01328339073380427,
          -0.012468890620679254,
          -0.011624223836697756,
          -0.010890168179190026,
          -0.010161140300158376,
          -0.009417029085698485,
          -0.008677945649714674,
          -0.008009251112395989,
          -0.007380778802885945,
          -0.006847834284421429,
          -0.006219361974911386,
          -0.005716584127303351,
          -0.005213806279695317,
          -0.00467583398275472,
          -0.004183111692098847,
          -0.0036853616229668923,
          -0.0033082782372608663,
          -0.0029010281806983586,
          -0.0025641670228009755,
          -0.002247416978807914,
          -0.0019256391563387718,
          -0.00160386133386963,
          -0.0013826390809220947,
          -0.0011614168279745595,
          -0.0009452223535031047,
          -0.0007290278790316499,
          -0.000568138967797079,
          -0.0004575278413233113,
          -0.0003318333794213027,
          -0.00024636114532793687,
          -0.0001357500188541693,
          -0.0000905000125694462,
          -0.00005530556323688379,
          -0.00002513889238040172,
          -0.000015083335428241033,
          0,
          0,
          0,
          0,
          0,
          0,
          0,
          0,
          0
         ],
         "yaxis": "y"
        },
        {
         "hovertemplate": "loan_rate=0.05<br>trigger=%{x}<br>cost=%{y}<extra></extra>",
         "legendgroup": "0.05",
         "line": {
          "color": "#EF553B",
          "dash": "solid"
         },
         "marker": {
          "symbol": "circle"
         },
         "mode": "lines",
         "name": "T=0.05",
         "orientation": "v",
         "showlegend": true,
         "type": "scatter",
         "x": [
          0,
          0.01,
          0.02,
          0.03,
          0.04,
          0.05,
          0.06,
          0.07,
          0.08,
          0.09,
          0.1,
          0.11,
          0.12,
          0.13,
          0.14,
          0.15,
          0.16,
          0.17,
          0.18,
          0.19,
          0.2,
          0.21,
          0.22,
          0.23,
          0.24,
          0.25,
          0.26,
          0.27,
          0.28,
          0.29,
          0.3,
          0.31,
          0.32,
          0.33,
          0.34,
          0.35000000000000003,
          0.36,
          0.37,
          0.38,
          0.39,
          0.4,
          0.41000000000000003,
          0.42,
          0.43,
          0.44,
          0.45,
          0.46,
          0.47000000000000003,
          0.48,
          0.49,
          0.5,
          0.51,
          0.52,
          0.53,
          0.54,
          0.55,
          0.56,
          0.5700000000000001,
          0.58,
          0.59,
          0.6,
          0.61,
          0.62,
          0.63,
          0.64,
          0.65,
          0.66,
          0.67,
          0.68,
          0.6900000000000001,
          0.7000000000000001,
          0.71,
          0.72,
          0.73,
          0.74,
          0.75,
          0.76,
          0.77,
          0.78,
          0.79,
          0.8,
          0.81,
          0.8200000000000001,
          0.8300000000000001,
          0.84,
          0.85,
          0.86,
          0.87,
          0.88,
          0.89,
          0.9,
          0.91,
          0.92,
          0.93,
          0.9400000000000001,
          0.9500000000000001,
          0.96,
          0.97,
          0.98,
          0.99,
          1
         ],
         "xaxis": "x",
         "y": [
          -0.021110384876442338,
          -0.021110384876442338,
          -0.021110384876442338,
          -0.021110384876442338,
          -0.021110384876442338,
          -0.02110058070841398,
          -0.021073179315719344,
          -0.02099600291611152,
          -0.020843661228286285,
          -0.020587747303853793,
          -0.020195077804871925,
          -0.01973176801830112,
          -0.01915709293848513,
          -0.018506749792604138,
          -0.017753588576887303,
          -0.017007717639960784,
          -0.01624827170114885,
          -0.015474747982603884,
          -0.014510168681967868,
          -0.013544332436712832,
          -0.012543301742125243,
          -0.011551823826642202,
          -0.010512079237788782,
          -0.00951129993212499,
          -0.008479348399909499,
          -0.007526081600844663,
          -0.006596696749541213,
          -0.005545891048040423,
          -0.004568239523366602,
          -0.0036730435657004942,
          -0.0026790517609794062,
          -0.0017448905201236792,
          -0.0008949445687422911,
          0.00010960557077854816,
          0.0009522612433696259,
          0.0018560044244450638,
          0.0027677920510822338,
          0.0035438296588652315,
          0.004424193670026909,
          0.00515246738228714,
          0.005798285527539658,
          0.006494884235400591,
          0.007248045451117426,
          0.007926544156464474,
          0.008657331757962749,
          0.009309183237386567,
          0.0095990346665326,
          0.009991452776590661,
          0.010329319490183266,
          0.010704894542346466,
          0.01097287513512155,
          0.011202141833630816,
          0.011372834912893742,
          0.011477664094120012,
          0.011632519671183287,
          0.011673496065763346,
          0.01165263078508761,
          0.011711707182181553,
          0.011636541893964153,
          0.011589280776288999,
          0.011387666859398175,
          0.011208677945649718,
          0.011027929309434628,
          0.010853716785238447,
          0.010592020915558461,
          0.010270745870936925,
          0.009882601372583524,
          0.009584705497875766,
          0.009171673496065767,
          0.008751602604389251,
          0.008364463661731065,
          0.007920259433369367,
          0.007515523266044898,
          0.006974031524171047,
          0.006506196736971769,
          0.005978782774830943,
          0.005458156313632822,
          0.00493174790718721,
          0.004446818673169261,
          0.003896779707886071,
          0.0033995324166017247,
          0.002910329570879107,
          0.002495537846602479,
          0.002070187787526082,
          0.0016423238392116446,
          0.0013049599034666536,
          0.0009960029161115165,
          0.0007664848286784485,
          0.000540737575102441,
          0.00036954171799190533,
          0.00024962920133738905,
          0.00014505140903491796,
          0.00008723195655999398,
          0.00004122778350385883,
          0.00001734583574247719,
          0.000006284723095100432,
          0.0000015083335428241033,
          0,
          0,
          0,
          0
         ],
         "yaxis": "y"
        },
        {
         "hovertemplate": "loan_rate=0.1<br>trigger=%{x}<br>cost=%{y}<extra></extra>",
         "legendgroup": "0.1",
         "line": {
          "color": "#00cc96",
          "dash": "solid"
         },
         "marker": {
          "symbol": "circle"
         },
         "mode": "lines",
         "name": "T=0.1",
         "orientation": "v",
         "showlegend": true,
         "type": "scatter",
         "x": [
          0,
          0.01,
          0.02,
          0.03,
          0.04,
          0.05,
          0.06,
          0.07,
          0.08,
          0.09,
          0.1,
          0.11,
          0.12,
          0.13,
          0.14,
          0.15,
          0.16,
          0.17,
          0.18,
          0.19,
          0.2,
          0.21,
          0.22,
          0.23,
          0.24,
          0.25,
          0.26,
          0.27,
          0.28,
          0.29,
          0.3,
          0.31,
          0.32,
          0.33,
          0.34,
          0.35000000000000003,
          0.36,
          0.37,
          0.38,
          0.39,
          0.4,
          0.41000000000000003,
          0.42,
          0.43,
          0.44,
          0.45,
          0.46,
          0.47000000000000003,
          0.48,
          0.49,
          0.5,
          0.51,
          0.52,
          0.53,
          0.54,
          0.55,
          0.56,
          0.5700000000000001,
          0.58,
          0.59,
          0.6,
          0.61,
          0.62,
          0.63,
          0.64,
          0.65,
          0.66,
          0.67,
          0.68,
          0.6900000000000001,
          0.7000000000000001,
          0.71,
          0.72,
          0.73,
          0.74,
          0.75,
          0.76,
          0.77,
          0.78,
          0.79,
          0.8,
          0.81,
          0.8200000000000001,
          0.8300000000000001,
          0.84,
          0.85,
          0.86,
          0.87,
          0.88,
          0.89,
          0.9,
          0.91,
          0.92,
          0.93,
          0.9400000000000001,
          0.9500000000000001,
          0.96,
          0.97,
          0.98,
          0.99,
          1
         ],
         "xaxis": "x",
         "y": [
          0.025503406319917557,
          0.025503406319917557,
          0.025503406319917557,
          0.025503406319917557,
          0.025503406319917557,
          0.02551295909902211,
          0.025537595213554906,
          0.025611503557153276,
          0.025755298021569173,
          0.025995625832725813,
          0.026358631438698807,
          0.02678247316423238,
          0.027308378792830393,
          0.02789009276251289,
          0.028561803966917224,
          0.02921390683526484,
          0.029868020815002894,
          0.03051006812639836,
          0.031333115462932715,
          0.03214359335327687,
          0.03297921013600141,
          0.033770582468136454,
          0.034593127026823205,
          0.03535282435455894,
          0.036129616129113355,
          0.036809371779079426,
          0.037456446868950964,
          0.03820558586188693,
          0.038858694285929765,
          0.03940722491767013,
          0.040042736117046694,
          0.04060886397345334,
          0.04105683903567211,
          0.041627994670554815,
          0.042006083611956076,
          0.04243595867166094,
          0.042861811508584945,
          0.04312174765579829,
          0.04349480881872347,
          0.04365921717489128,
          0.043719047738756636,
          0.043805022750697614,
          0.04394378943663743,
          0.04397345332964631,
          0.04402725055934037,
          0.04398853666507455,
          0.043542572714246226,
          0.04319113099876819,
          0.042785892053596127,
          0.04241584755775661,
          0.04189094748485382,
          0.04133386962970413,
          0.04067472787148999,
          0.03995424721586767,
          0.03926845823173031,
          0.038445410895195965,
          0.03753387465748259,
          0.03670680509816737,
          0.03574197440860756,
          0.03480278538927575,
          0.03366550189798638,
          0.03257849619145781,
          0.03147288770456774,
          0.030385379220191567,
          0.02919329294351291,
          0.027922270544759795,
          0.026613037029588477,
          0.025388772970662915,
          0.024059931119434882,
          0.02271701148847382,
          0.021404761306216852,
          0.02002363055883758,
          0.01871640815505669,
          0.017256341285602963,
          0.015913421654641897,
          0.01452173257246286,
          0.013163729606073558,
          0.011789134970713192,
          0.010497498680208151,
          0.009176198496694236,
          0.00796048166117801,
          0.0067658814952613194,
          0.005720103572236608,
          0.0047085145428492434,
          0.0037421755197466003,
          0.0029417531863546098,
          0.0022383669775509697,
          0.0016687196762110662,
          0.0011719751627743283,
          0.0007943889992206945,
          0.0005243972950551798,
          0.0003051861534980769,
          0.00017446391311998796,
          0.00008245556700771766,
          0.00003469167148495438,
          0.000012569446190200863,
          0.0000030166670856482066,
          0,
          0,
          0,
          0
         ],
         "yaxis": "y"
        },
        {
         "hovertemplate": "loan_rate=0.15<br>trigger=%{x}<br>cost=%{y}<extra></extra>",
         "legendgroup": "0.15",
         "line": {
          "color": "#ab63fa",
          "dash": "solid"
         },
         "marker": {
          "symbol": "circle"
         },
         "mode": "lines",
         "name": "T=0.15",
         "orientation": "v",
         "showlegend": true,
         "type": "scatter",
         "x": [
          0,
          0.01,
          0.02,
          0.03,
          0.04,
          0.05,
          0.06,
          0.07,
          0.08,
          0.09,
          0.1,
          0.11,
          0.12,
          0.13,
          0.14,
          0.15,
          0.16,
          0.17,
          0.18,
          0.19,
          0.2,
          0.21,
          0.22,
          0.23,
          0.24,
          0.25,
          0.26,
          0.27,
          0.28,
          0.29,
          0.3,
          0.31,
          0.32,
          0.33,
          0.34,
          0.35000000000000003,
          0.36,
          0.37,
          0.38,
          0.39,
          0.4,
          0.41000000000000003,
          0.42,
          0.43,
          0.44,
          0.45,
          0.46,
          0.47000000000000003,
          0.48,
          0.49,
          0.5,
          0.51,
          0.52,
          0.53,
          0.54,
          0.55,
          0.56,
          0.5700000000000001,
          0.58,
          0.59,
          0.6,
          0.61,
          0.62,
          0.63,
          0.64,
          0.65,
          0.66,
          0.67,
          0.68,
          0.6900000000000001,
          0.7000000000000001,
          0.71,
          0.72,
          0.73,
          0.74,
          0.75,
          0.76,
          0.77,
          0.78,
          0.79,
          0.8,
          0.81,
          0.8200000000000001,
          0.8300000000000001,
          0.84,
          0.85,
          0.86,
          0.87,
          0.88,
          0.89,
          0.9,
          0.91,
          0.92,
          0.93,
          0.9400000000000001,
          0.9500000000000001,
          0.96,
          0.97,
          0.98,
          0.99,
          1
         ],
         "xaxis": "x",
         "y": [
          0.07211719751627743,
          0.07211719751627743,
          0.07211719751627743,
          0.07211719751627743,
          0.07211719751627743,
          0.0721264989064582,
          0.07214836974282915,
          0.07221901003041806,
          0.07235425727142462,
          0.0725789989693054,
          0.07291234068226952,
          0.07329671434676588,
          0.0737738505241459,
          0.07428693531762989,
          0.07487719651072174,
          0.07543553131049047,
          0.07598431333115462,
          0.07649488423540057,
          0.07717639960783328,
          0.07783151914326655,
          0.07850172201412806,
          0.07909298876291511,
          0.07969833329143516,
          0.08021694864124287,
          0.08073858065813622,
          0.08114482515900348,
          0.08150959048744313,
          0.08195706277181428,
          0.08228562809522612,
          0.08248749340104075,
          0.08276452399507278,
          0.08296261846703035,
          0.08300862264008649,
          0.08314638377033107,
          0.0830599059805425,
          0.0830159129188768,
          0.08295583096608763,
          0.08269966565273135,
          0.08256542396742,
          0.08216596696749541,
          0.0816398099499736,
          0.08111516126599463,
          0.08063953342215743,
          0.08002036250282812,
          0.07939716936071797,
          0.07866789009276251,
          0.07748611076195983,
          0.07639080922094572,
          0.07524246461700898,
          0.07412680057316674,
          0.07280901983458608,
          0.07146559742577743,
          0.06997662083008624,
          0.06843083033761532,
          0.06690439679227733,
          0.06521732572462859,
          0.06341511852987758,
          0.061701903014153195,
          0.05984740692325097,
          0.05801629000226251,
          0.055943336936574564,
          0.053948314437265894,
          0.05191784609970085,
          0.04991704165514467,
          0.047794564971467356,
          0.04557379521858267,
          0.04334347268659343,
          0.04119284044345006,
          0.038948188742803994,
          0.03668242037255839,
          0.03444505895070263,
          0.03212700168430579,
          0.029917293044068476,
          0.02753865104703487,
          0.025320646572312023,
          0.023064682370094774,
          0.02086930289851429,
          0.018646522034239173,
          0.016548178687247037,
          0.014455617285502402,
          0.012521430905754295,
          0.010621433419643531,
          0.008944669297870736,
          0.007346841298172404,
          0.005842027200281555,
          0.004578546469242565,
          0.0034807310389904224,
          0.002570954523743684,
          0.0018032127504462154,
          0.0012192362804494834,
          0.0007991653887729706,
          0.00046532089796123583,
          0.0002616958696799819,
          0.00012368335051157647,
          0.00005203750722743156,
          0.00001885416928530129,
          0.00000452500062847231,
          0,
          0,
          0,
          0
         ],
         "yaxis": "y"
        },
        {
         "hovertemplate": "loan_rate=%{x}<br>opt_trigger=%{y}<extra></extra>",
         "legendgroup": "",
         "line": {
          "color": "#636efa",
          "dash": "solid"
         },
         "marker": {
          "symbol": "circle"
         },
         "mode": "lines",
         "name": "",
         "orientation": "v",
         "showlegend": false,
         "type": "scatter",
         "x": [
          0,
          0.01,
          0.02,
          0.03,
          0.04,
          0.05,
          0.06,
          0.07,
          0.08,
          0.09,
          0.1,
          0.11,
          0.12,
          0.13,
          0.14,
          0.15,
          0.16,
          0.17,
          0.18,
          0.19,
          0.2,
          0.21,
          0.22,
          0.23,
          0.24,
          0.25,
          0.26,
          0.27,
          0.28,
          0.29,
          0.3,
          0.31,
          0.32,
          0.33,
          0.34,
          0.35,
          0.36,
          0.37,
          0.38,
          0.39,
          0.4,
          0.41,
          0.42,
          0.43,
          0.44,
          0.45,
          0.46,
          0.47,
          0.48,
          0.49,
          0.5
         ],
         "xaxis": "x2",
         "y": [
          0.92,
          0.87,
          0.74,
          0.67,
          0.63,
          0.57,
          0.52,
          0.49,
          0.45,
          0.45,
          0.44,
          0.39,
          0.38,
          0.38,
          0.36,
          0.33,
          0.33,
          0.31,
          0.3,
          0.28,
          0.28,
          0.27,
          0.25,
          0.24,
          0.24,
          0.24,
          0.22,
          0.22,
          0.22,
          0.21,
          0.2,
          0.2,
          0.2,
          0.2,
          0.2,
          0.2,
          0.19,
          0.16,
          0.16,
          0.16,
          0.16,
          0.16,
          0.15,
          0.15,
          0.15,
          0.14,
          0.14,
          0.14,
          0.14,
          0.14,
          0.14
         ],
         "yaxis": "y2"
        },
        {
         "hovertemplate": "type=Rembourse et Acc.<br>trigger=%{x}<br>value=%{y}<extra></extra>",
         "legendgroup": "Rembourse et Acc.",
         "line": {
          "color": "green",
          "dash": "solid"
         },
         "marker": {
          "symbol": "circle"
         },
         "mode": "lines",
         "name": "Rembourse et Acc.",
         "orientation": "v",
         "showlegend": true,
         "type": "scatter",
         "x": [
          0,
          0.01,
          0.02,
          0.03,
          0.04,
          0.05,
          0.06,
          0.07,
          0.08,
          0.09,
          0.1,
          0.11,
          0.12,
          0.13,
          0.14,
          0.15,
          0.16,
          0.17,
          0.18,
          0.19,
          0.2,
          0.21,
          0.22,
          0.23,
          0.24,
          0.25,
          0.26,
          0.27,
          0.28,
          0.29,
          0.3,
          0.31,
          0.32,
          0.33,
          0.34,
          0.35000000000000003,
          0.36,
          0.37,
          0.38,
          0.39,
          0.4,
          0.41000000000000003,
          0.42,
          0.43,
          0.44,
          0.45,
          0.46,
          0.47000000000000003,
          0.48,
          0.49,
          0.5,
          0.51,
          0.52,
          0.53,
          0.54,
          0.55,
          0.56,
          0.5700000000000001,
          0.58,
          0.59,
          0.6,
          0.61,
          0.62,
          0.63,
          0.64,
          0.65,
          0.66,
          0.67,
          0.68,
          0.6900000000000001,
          0.7000000000000001,
          0.71,
          0.72,
          0.73,
          0.74,
          0.75,
          0.76,
          0.77,
          0.78,
          0.79,
          0.8,
          0.81,
          0.8200000000000001,
          0.8300000000000001,
          0.84,
          0.85,
          0.86,
          0.87,
          0.88,
          0.89,
          0.9,
          0.91,
          0.92,
          0.93,
          0.9400000000000001,
          0.9500000000000001,
          0.96,
          0.97,
          0.98,
          0.99,
          1
         ],
         "xaxis": "x3",
         "y": [
          1.0000000000000002,
          1.0000000000000002,
          1.0000000000000002,
          1.0000000000000002,
          1.0000000000000002,
          0.9999946069839559,
          0.9999352838074694,
          0.9998651745988946,
          0.9996818120533909,
          0.999347445058649,
          0.9987110691654307,
          0.9978643656464878,
          0.9968181205339086,
          0.9953458271538358,
          0.9935984899555076,
          0.9915868949710127,
          0.9893272212484833,
          0.9865066738573549,
          0.9834704058244574,
          0.9801375219091278,
          0.9765889173520292,
          0.9722960765808278,
          0.9676365107186196,
          0.9624646083322098,
          0.9569906970473238,
          0.9511230955912093,
          0.9450667385735474,
          0.93859511932048,
          0.9316327356073885,
          0.9241957664824053,
          0.9165053256033436,
          0.9086099501146018,
          0.8999865174598896,
          0.8906889577996494,
          0.880722664149926,
          0.8705568289065662,
          0.8601321288930834,
          0.8490602669542944,
          0.8381771605770528,
          0.8260806255898612,
          0.8135095051907779,
          0.8004098692193611,
          0.7872293380072807,
          0.7733099635971419,
          0.7587865713900499,
          0.7439719563165702,
          0.7281865983551302,
          0.7122286638802751,
          0.6962869084535527,
          0.680291222866388,
          0.6632816502629096,
          0.6464122960765809,
          0.6286099501146016,
          0.6109046784414184,
          0.5928704327895377,
          0.5743346366455441,
          0.5552271808008629,
          0.5362167992449778,
          0.5171309154644735,
          0.49799649453957134,
          0.47792368882297426,
          0.4584441148712418,
          0.4386032088445463,
          0.4190103815558851,
          0.3990508291762168,
          0.3786760145611433,
          0.35891600377511124,
          0.3390427396521505,
          0.3193959822030471,
          0.2995982203047054,
          0.2797519212619658,
          0.2596521504651476,
          0.24029122286638802,
          0.2205851422407982,
          0.20181205339085884,
          0.1832708642308211,
          0.16530672778751518,
          0.14711069165430768,
          0.12980450316839692,
          0.11325872994472161,
          0.09784549009033304,
          0.08271268707024404,
          0.06917621679924497,
          0.05659970338411758,
          0.04504786301739248,
          0.03511392746393421,
          0.026652285290548743,
          0.019355534582715384,
          0.01354186328704328,
          0.009114197114736418,
          0.005894566536335445,
          0.0034353512201698807,
          0.0018713765673452878,
          0.0008844546312525281,
          0.00037211810705136853,
          0.0001348254011055683,
          0.00003235809626533639,
          0,
          0,
          0,
          0
         ],
         "yaxis": "y3"
        },
        {
         "hovertemplate": "type=Rembourse Pas et Non Acc.<br>trigger=%{x}<br>value=%{y}<extra></extra>",
         "legendgroup": "Rembourse Pas et Non Acc.",
         "line": {
          "color": "red",
          "dash": "solid"
         },
         "marker": {
          "symbol": "circle"
         },
         "mode": "lines",
         "name": "Rembourse Pas et Non Acc.",
         "orientation": "v",
         "showlegend": true,
         "type": "scatter",
         "x": [
          0,
          0.01,
          0.02,
          0.03,
          0.04,
          0.05,
          0.06,
          0.07,
          0.08,
          0.09,
          0.1,
          0.11,
          0.12,
          0.13,
          0.14,
          0.15,
          0.16,
          0.17,
          0.18,
          0.19,
          0.2,
          0.21,
          0.22,
          0.23,
          0.24,
          0.25,
          0.26,
          0.27,
          0.28,
          0.29,
          0.3,
          0.31,
          0.32,
          0.33,
          0.34,
          0.35000000000000003,
          0.36,
          0.37,
          0.38,
          0.39,
          0.4,
          0.41000000000000003,
          0.42,
          0.43,
          0.44,
          0.45,
          0.46,
          0.47000000000000003,
          0.48,
          0.49,
          0.5,
          0.51,
          0.52,
          0.53,
          0.54,
          0.55,
          0.56,
          0.5700000000000001,
          0.58,
          0.59,
          0.6,
          0.61,
          0.62,
          0.63,
          0.64,
          0.65,
          0.66,
          0.67,
          0.68,
          0.6900000000000001,
          0.7000000000000001,
          0.71,
          0.72,
          0.73,
          0.74,
          0.75,
          0.76,
          0.77,
          0.78,
          0.79,
          0.8,
          0.81,
          0.8200000000000001,
          0.8300000000000001,
          0.84,
          0.85,
          0.86,
          0.87,
          0.88,
          0.89,
          0.9,
          0.91,
          0.92,
          0.93,
          0.9400000000000001,
          0.9500000000000001,
          0.96,
          0.97,
          0.98,
          0.99,
          1
         ],
         "xaxis": "x3",
         "y": [
          0,
          0,
          0,
          0,
          0,
          0.00014847809948032666,
          0.0005939123979213066,
          0.0017817371937639199,
          0.004157386785449147,
          0.008166295471417966,
          0.014402375649591688,
          0.021826280623608023,
          0.031031922791388274,
          0.041648106904231624,
          0.05397178916109874,
          0.06636971046770603,
          0.07913882702301413,
          0.09250185597624351,
          0.10883444691907944,
          0.12538975501113586,
          0.14261321455085374,
          0.16020786933927245,
          0.17876763177431332,
          0.19710467706013365,
          0.21610987379361543,
          0.2342242019302153,
          0.25211581291759466,
          0.2720861172976986,
          0.29131403118040095,
          0.30965107646622125,
          0.32962138084632514,
          0.3488492947290275,
          0.3673348181143281,
          0.38856718634001486,
          0.4078693392724574,
          0.42821083890126216,
          0.44884929472902746,
          0.46792873051224954,
          0.4884187082405345,
          0.5074981440237565,
          0.5256867112100966,
          0.544988864142539,
          0.5651818856718634,
          0.5847809948032665,
          0.6055679287305124,
          0.625389755011136,
          0.6405345211581294,
          0.6573125463994061,
          0.6732739420935413,
          0.6898292501855977,
          0.7054936896807721,
          0.720489977728285,
          0.7352635486265777,
          0.7489977728285079,
          0.7636971046770601,
          0.7770601336302897,
          0.7899034892353378,
          0.8038604305864885,
          0.815887156644395,
          0.8283593170007425,
          0.8391982182628063,
          0.84996288047513,
          0.8609502598366741,
          0.8718634001484781,
          0.8817371937639199,
          0.8910170749814402,
          0.8988864142538976,
          0.9081662954714181,
          0.9155902004454345,
          0.9230141054194507,
          0.9309576837416482,
          0.9382331106161842,
          0.9455827765404604,
          0.9511507052709727,
          0.9571640682999257,
          0.9621380846325167,
          0.9668151447661469,
          0.9715664439495176,
          0.976317743132888,
          0.979584261321455,
          0.9828507795100223,
          0.9860430586488494,
          0.9892353377876765,
          0.9916109873793617,
          0.9932442464736453,
          0.9951002227171493,
          0.9963622865627322,
          0.9979955456570155,
          0.9986636971046772,
          0.9991833704528583,
          0.9996288047512992,
          0.9997772828507795,
          1,
          1,
          1,
          1,
          1,
          1,
          1,
          1,
          1
         ],
         "yaxis": "y3"
        },
        {
         "hovertemplate": "type=Rembourse et Non Acc.<br>trigger=%{x}<br>value=%{y}<extra></extra>",
         "legendgroup": "Rembourse et Non Acc.",
         "line": {
          "color": "green",
          "dash": "dash"
         },
         "marker": {
          "symbol": "circle"
         },
         "mode": "lines",
         "name": "Rembourse et Non Acc.",
         "orientation": "v",
         "showlegend": true,
         "type": "scatter",
         "x": [
          0,
          0.01,
          0.02,
          0.03,
          0.04,
          0.05,
          0.06,
          0.07,
          0.08,
          0.09,
          0.1,
          0.11,
          0.12,
          0.13,
          0.14,
          0.15,
          0.16,
          0.17,
          0.18,
          0.19,
          0.2,
          0.21,
          0.22,
          0.23,
          0.24,
          0.25,
          0.26,
          0.27,
          0.28,
          0.29,
          0.3,
          0.31,
          0.32,
          0.33,
          0.34,
          0.35000000000000003,
          0.36,
          0.37,
          0.38,
          0.39,
          0.4,
          0.41000000000000003,
          0.42,
          0.43,
          0.44,
          0.45,
          0.46,
          0.47000000000000003,
          0.48,
          0.49,
          0.5,
          0.51,
          0.52,
          0.53,
          0.54,
          0.55,
          0.56,
          0.5700000000000001,
          0.58,
          0.59,
          0.6,
          0.61,
          0.62,
          0.63,
          0.64,
          0.65,
          0.66,
          0.67,
          0.68,
          0.6900000000000001,
          0.7000000000000001,
          0.71,
          0.72,
          0.73,
          0.74,
          0.75,
          0.76,
          0.77,
          0.78,
          0.79,
          0.8,
          0.81,
          0.8200000000000001,
          0.8300000000000001,
          0.84,
          0.85,
          0.86,
          0.87,
          0.88,
          0.89,
          0.9,
          0.91,
          0.92,
          0.93,
          0.9400000000000001,
          0.9500000000000001,
          0.96,
          0.97,
          0.98,
          0.99,
          1
         ],
         "xaxis": "x3",
         "y": [
          -2.220446049250313e-16,
          -2.220446049250313e-16,
          -2.220446049250313e-16,
          -2.220446049250313e-16,
          -2.220446049250313e-16,
          0.000005393016044075161,
          0.00006471619253056726,
          0.00013482540110543173,
          0.0003181879466090942,
          0.000652554941350969,
          0.0012889308345692685,
          0.0021356343535121614,
          0.0031818794660913863,
          0.004654172846164206,
          0.006401510044492409,
          0.008413105028987289,
          0.010672778751516732,
          0.01349332614264509,
          0.01652959417554256,
          0.01986247809087216,
          0.02341108264797076,
          0.02770392341917216,
          0.03236348928138044,
          0.037535391667790186,
          0.04300930295267624,
          0.04887690440879067,
          0.054933261426452606,
          0.06140488067951999,
          0.06836726439261154,
          0.07580423351759469,
          0.08349467439665637,
          0.09139004988539823,
          0.10001348254011044,
          0.1093110422003506,
          0.11927733585007405,
          0.12944317109343384,
          0.13986787110691656,
          0.15093973304570563,
          0.16182283942294717,
          0.17391937441013883,
          0.18649049480922208,
          0.19959013078063892,
          0.21277066199271932,
          0.22669003640285812,
          0.2412134286099501,
          0.2560280436834298,
          0.2718134016448698,
          0.28777133611972494,
          0.3037130915464473,
          0.319708777133612,
          0.33671834973709036,
          0.3535877039234191,
          0.37139004988539837,
          0.3890953215585816,
          0.40712956721046234,
          0.42566536335445593,
          0.44477281919913714,
          0.4637832007550222,
          0.48286908453552646,
          0.5020035054604286,
          0.5220763111770257,
          0.5415558851287582,
          0.5613967911554537,
          0.5809896184441149,
          0.6009491708237832,
          0.6213239854388567,
          0.6410839962248888,
          0.6609572603478495,
          0.6806040177969529,
          0.7004017796952946,
          0.7202480787380342,
          0.7403478495348523,
          0.759708777133612,
          0.7794148577592018,
          0.7981879466091412,
          0.8167291357691789,
          0.8346932722124848,
          0.8528893083456923,
          0.870195496831603,
          0.8867412700552784,
          0.902154509909667,
          0.917287312929756,
          0.930823783200755,
          0.9434002966158824,
          0.9549521369826075,
          0.9648860725360658,
          0.9733477147094513,
          0.9806444654172846,
          0.9864581367129567,
          0.9908858028852636,
          0.9941054334636645,
          0.9965646487798301,
          0.9981286234326547,
          0.9991155453687475,
          0.9996278818929486,
          0.9998651745988945,
          0.9999676419037347,
          1,
          1,
          1,
          1
         ],
         "yaxis": "y3"
        },
        {
         "hovertemplate": "type=Rembourse Pas et Acc.<br>trigger=%{x}<br>value=%{y}<extra></extra>",
         "legendgroup": "Rembourse Pas et Acc.",
         "line": {
          "color": "red",
          "dash": "dash"
         },
         "marker": {
          "symbol": "circle"
         },
         "mode": "lines",
         "name": "Rembourse Pas et Acc.",
         "orientation": "v",
         "showlegend": true,
         "type": "scatter",
         "x": [
          0,
          0.01,
          0.02,
          0.03,
          0.04,
          0.05,
          0.06,
          0.07,
          0.08,
          0.09,
          0.1,
          0.11,
          0.12,
          0.13,
          0.14,
          0.15,
          0.16,
          0.17,
          0.18,
          0.19,
          0.2,
          0.21,
          0.22,
          0.23,
          0.24,
          0.25,
          0.26,
          0.27,
          0.28,
          0.29,
          0.3,
          0.31,
          0.32,
          0.33,
          0.34,
          0.35000000000000003,
          0.36,
          0.37,
          0.38,
          0.39,
          0.4,
          0.41000000000000003,
          0.42,
          0.43,
          0.44,
          0.45,
          0.46,
          0.47000000000000003,
          0.48,
          0.49,
          0.5,
          0.51,
          0.52,
          0.53,
          0.54,
          0.55,
          0.56,
          0.5700000000000001,
          0.58,
          0.59,
          0.6,
          0.61,
          0.62,
          0.63,
          0.64,
          0.65,
          0.66,
          0.67,
          0.68,
          0.6900000000000001,
          0.7000000000000001,
          0.71,
          0.72,
          0.73,
          0.74,
          0.75,
          0.76,
          0.77,
          0.78,
          0.79,
          0.8,
          0.81,
          0.8200000000000001,
          0.8300000000000001,
          0.84,
          0.85,
          0.86,
          0.87,
          0.88,
          0.89,
          0.9,
          0.91,
          0.92,
          0.93,
          0.9400000000000001,
          0.9500000000000001,
          0.96,
          0.97,
          0.98,
          0.99,
          1
         ],
         "xaxis": "x3",
         "y": [
          1,
          1,
          1,
          1,
          1,
          0.9998515219005196,
          0.9994060876020787,
          0.998218262806236,
          0.9958426132145508,
          0.991833704528582,
          0.9855976243504083,
          0.978173719376392,
          0.9689680772086118,
          0.9583518930957684,
          0.9460282108389013,
          0.933630289532294,
          0.9208611729769859,
          0.9074981440237565,
          0.8911655530809206,
          0.8746102449888642,
          0.8573867854491463,
          0.8397921306607276,
          0.8212323682256867,
          0.8028953229398663,
          0.7838901262063845,
          0.7657757980697847,
          0.7478841870824053,
          0.7279138827023014,
          0.708685968819599,
          0.6903489235337787,
          0.6703786191536749,
          0.6511507052709725,
          0.6326651818856719,
          0.6114328136599851,
          0.5921306607275426,
          0.5717891610987378,
          0.5511507052709725,
          0.5320712694877505,
          0.5115812917594655,
          0.4925018559762435,
          0.4743132887899034,
          0.455011135857461,
          0.43481811432813655,
          0.4152190051967335,
          0.39443207126948765,
          0.37461024498886397,
          0.35946547884187063,
          0.34268745360059394,
          0.3267260579064587,
          0.3101707498144023,
          0.2945063103192279,
          0.27951002227171495,
          0.2647364513734223,
          0.2510022271714921,
          0.2363028953229399,
          0.2229398663697103,
          0.21009651076466218,
          0.19613956941351152,
          0.18411284335560496,
          0.1716406829992575,
          0.16080178173719373,
          0.15003711952486998,
          0.13904974016332594,
          0.12813659985152193,
          0.1182628062360801,
          0.10898292501855977,
          0.10111358574610241,
          0.09183370452858186,
          0.08440979955456551,
          0.07698589458054927,
          0.06904231625835178,
          0.061766889383815804,
          0.05441722345953959,
          0.048849294729027326,
          0.04283593170007427,
          0.03786191536748329,
          0.03318485523385306,
          0.028433556050482367,
          0.023682256867112006,
          0.02041573867854496,
          0.01714922048997769,
          0.013956941351150554,
          0.010764662212323528,
          0.008389012620638292,
          0.006755753526354713,
          0.004899777282850737,
          0.00363771343726782,
          0.002004454342984463,
          0.0013363028953228273,
          0.0008166295471416785,
          0.00037119524870077303,
          0.00022271714922050823,
          0,
          0,
          0,
          0,
          0,
          0,
          0,
          0,
          0
         ],
         "yaxis": "y3"
        }
       ],
       "layout": {
        "annotations": [
         {
          "font": {
           "size": 16
          },
          "showarrow": false,
          "text": "Fonction coût vs seuil",
          "x": 0.13333333333333333,
          "xanchor": "center",
          "xref": "paper",
          "y": 1,
          "yanchor": "bottom",
          "yref": "paper"
         },
         {
          "font": {
           "size": 16
          },
          "showarrow": false,
          "text": "Seuil optimal vs taux d'emprunt",
          "x": 0.5,
          "xanchor": "center",
          "xref": "paper",
          "y": 1,
          "yanchor": "bottom",
          "yref": "paper"
         },
         {
          "font": {
           "size": 16
          },
          "showarrow": false,
          "text": "Vrai/Faux Positif/Négatif vs seuil",
          "x": 0.8666666666666667,
          "xanchor": "center",
          "xref": "paper",
          "y": 1,
          "yanchor": "bottom",
          "yref": "paper"
         }
        ],
        "template": {
         "data": {
          "bar": [
           {
            "error_x": {
             "color": "#2a3f5f"
            },
            "error_y": {
             "color": "#2a3f5f"
            },
            "marker": {
             "line": {
              "color": "#E5ECF6",
              "width": 0.5
             },
             "pattern": {
              "fillmode": "overlay",
              "size": 10,
              "solidity": 0.2
             }
            },
            "type": "bar"
           }
          ],
          "barpolar": [
           {
            "marker": {
             "line": {
              "color": "#E5ECF6",
              "width": 0.5
             },
             "pattern": {
              "fillmode": "overlay",
              "size": 10,
              "solidity": 0.2
             }
            },
            "type": "barpolar"
           }
          ],
          "carpet": [
           {
            "aaxis": {
             "endlinecolor": "#2a3f5f",
             "gridcolor": "white",
             "linecolor": "white",
             "minorgridcolor": "white",
             "startlinecolor": "#2a3f5f"
            },
            "baxis": {
             "endlinecolor": "#2a3f5f",
             "gridcolor": "white",
             "linecolor": "white",
             "minorgridcolor": "white",
             "startlinecolor": "#2a3f5f"
            },
            "type": "carpet"
           }
          ],
          "choropleth": [
           {
            "colorbar": {
             "outlinewidth": 0,
             "ticks": ""
            },
            "type": "choropleth"
           }
          ],
          "contour": [
           {
            "colorbar": {
             "outlinewidth": 0,
             "ticks": ""
            },
            "colorscale": [
             [
              0,
              "#0d0887"
             ],
             [
              0.1111111111111111,
              "#46039f"
             ],
             [
              0.2222222222222222,
              "#7201a8"
             ],
             [
              0.3333333333333333,
              "#9c179e"
             ],
             [
              0.4444444444444444,
              "#bd3786"
             ],
             [
              0.5555555555555556,
              "#d8576b"
             ],
             [
              0.6666666666666666,
              "#ed7953"
             ],
             [
              0.7777777777777778,
              "#fb9f3a"
             ],
             [
              0.8888888888888888,
              "#fdca26"
             ],
             [
              1,
              "#f0f921"
             ]
            ],
            "type": "contour"
           }
          ],
          "contourcarpet": [
           {
            "colorbar": {
             "outlinewidth": 0,
             "ticks": ""
            },
            "type": "contourcarpet"
           }
          ],
          "heatmap": [
           {
            "colorbar": {
             "outlinewidth": 0,
             "ticks": ""
            },
            "colorscale": [
             [
              0,
              "#0d0887"
             ],
             [
              0.1111111111111111,
              "#46039f"
             ],
             [
              0.2222222222222222,
              "#7201a8"
             ],
             [
              0.3333333333333333,
              "#9c179e"
             ],
             [
              0.4444444444444444,
              "#bd3786"
             ],
             [
              0.5555555555555556,
              "#d8576b"
             ],
             [
              0.6666666666666666,
              "#ed7953"
             ],
             [
              0.7777777777777778,
              "#fb9f3a"
             ],
             [
              0.8888888888888888,
              "#fdca26"
             ],
             [
              1,
              "#f0f921"
             ]
            ],
            "type": "heatmap"
           }
          ],
          "heatmapgl": [
           {
            "colorbar": {
             "outlinewidth": 0,
             "ticks": ""
            },
            "colorscale": [
             [
              0,
              "#0d0887"
             ],
             [
              0.1111111111111111,
              "#46039f"
             ],
             [
              0.2222222222222222,
              "#7201a8"
             ],
             [
              0.3333333333333333,
              "#9c179e"
             ],
             [
              0.4444444444444444,
              "#bd3786"
             ],
             [
              0.5555555555555556,
              "#d8576b"
             ],
             [
              0.6666666666666666,
              "#ed7953"
             ],
             [
              0.7777777777777778,
              "#fb9f3a"
             ],
             [
              0.8888888888888888,
              "#fdca26"
             ],
             [
              1,
              "#f0f921"
             ]
            ],
            "type": "heatmapgl"
           }
          ],
          "histogram": [
           {
            "marker": {
             "pattern": {
              "fillmode": "overlay",
              "size": 10,
              "solidity": 0.2
             }
            },
            "type": "histogram"
           }
          ],
          "histogram2d": [
           {
            "colorbar": {
             "outlinewidth": 0,
             "ticks": ""
            },
            "colorscale": [
             [
              0,
              "#0d0887"
             ],
             [
              0.1111111111111111,
              "#46039f"
             ],
             [
              0.2222222222222222,
              "#7201a8"
             ],
             [
              0.3333333333333333,
              "#9c179e"
             ],
             [
              0.4444444444444444,
              "#bd3786"
             ],
             [
              0.5555555555555556,
              "#d8576b"
             ],
             [
              0.6666666666666666,
              "#ed7953"
             ],
             [
              0.7777777777777778,
              "#fb9f3a"
             ],
             [
              0.8888888888888888,
              "#fdca26"
             ],
             [
              1,
              "#f0f921"
             ]
            ],
            "type": "histogram2d"
           }
          ],
          "histogram2dcontour": [
           {
            "colorbar": {
             "outlinewidth": 0,
             "ticks": ""
            },
            "colorscale": [
             [
              0,
              "#0d0887"
             ],
             [
              0.1111111111111111,
              "#46039f"
             ],
             [
              0.2222222222222222,
              "#7201a8"
             ],
             [
              0.3333333333333333,
              "#9c179e"
             ],
             [
              0.4444444444444444,
              "#bd3786"
             ],
             [
              0.5555555555555556,
              "#d8576b"
             ],
             [
              0.6666666666666666,
              "#ed7953"
             ],
             [
              0.7777777777777778,
              "#fb9f3a"
             ],
             [
              0.8888888888888888,
              "#fdca26"
             ],
             [
              1,
              "#f0f921"
             ]
            ],
            "type": "histogram2dcontour"
           }
          ],
          "mesh3d": [
           {
            "colorbar": {
             "outlinewidth": 0,
             "ticks": ""
            },
            "type": "mesh3d"
           }
          ],
          "parcoords": [
           {
            "line": {
             "colorbar": {
              "outlinewidth": 0,
              "ticks": ""
             }
            },
            "type": "parcoords"
           }
          ],
          "pie": [
           {
            "automargin": true,
            "type": "pie"
           }
          ],
          "scatter": [
           {
            "fillpattern": {
             "fillmode": "overlay",
             "size": 10,
             "solidity": 0.2
            },
            "type": "scatter"
           }
          ],
          "scatter3d": [
           {
            "line": {
             "colorbar": {
              "outlinewidth": 0,
              "ticks": ""
             }
            },
            "marker": {
             "colorbar": {
              "outlinewidth": 0,
              "ticks": ""
             }
            },
            "type": "scatter3d"
           }
          ],
          "scattercarpet": [
           {
            "marker": {
             "colorbar": {
              "outlinewidth": 0,
              "ticks": ""
             }
            },
            "type": "scattercarpet"
           }
          ],
          "scattergeo": [
           {
            "marker": {
             "colorbar": {
              "outlinewidth": 0,
              "ticks": ""
             }
            },
            "type": "scattergeo"
           }
          ],
          "scattergl": [
           {
            "marker": {
             "colorbar": {
              "outlinewidth": 0,
              "ticks": ""
             }
            },
            "type": "scattergl"
           }
          ],
          "scattermapbox": [
           {
            "marker": {
             "colorbar": {
              "outlinewidth": 0,
              "ticks": ""
             }
            },
            "type": "scattermapbox"
           }
          ],
          "scatterpolar": [
           {
            "marker": {
             "colorbar": {
              "outlinewidth": 0,
              "ticks": ""
             }
            },
            "type": "scatterpolar"
           }
          ],
          "scatterpolargl": [
           {
            "marker": {
             "colorbar": {
              "outlinewidth": 0,
              "ticks": ""
             }
            },
            "type": "scatterpolargl"
           }
          ],
          "scatterternary": [
           {
            "marker": {
             "colorbar": {
              "outlinewidth": 0,
              "ticks": ""
             }
            },
            "type": "scatterternary"
           }
          ],
          "surface": [
           {
            "colorbar": {
             "outlinewidth": 0,
             "ticks": ""
            },
            "colorscale": [
             [
              0,
              "#0d0887"
             ],
             [
              0.1111111111111111,
              "#46039f"
             ],
             [
              0.2222222222222222,
              "#7201a8"
             ],
             [
              0.3333333333333333,
              "#9c179e"
             ],
             [
              0.4444444444444444,
              "#bd3786"
             ],
             [
              0.5555555555555556,
              "#d8576b"
             ],
             [
              0.6666666666666666,
              "#ed7953"
             ],
             [
              0.7777777777777778,
              "#fb9f3a"
             ],
             [
              0.8888888888888888,
              "#fdca26"
             ],
             [
              1,
              "#f0f921"
             ]
            ],
            "type": "surface"
           }
          ],
          "table": [
           {
            "cells": {
             "fill": {
              "color": "#EBF0F8"
             },
             "line": {
              "color": "white"
             }
            },
            "header": {
             "fill": {
              "color": "#C8D4E3"
             },
             "line": {
              "color": "white"
             }
            },
            "type": "table"
           }
          ]
         },
         "layout": {
          "annotationdefaults": {
           "arrowcolor": "#2a3f5f",
           "arrowhead": 0,
           "arrowwidth": 1
          },
          "autotypenumbers": "strict",
          "coloraxis": {
           "colorbar": {
            "outlinewidth": 0,
            "ticks": ""
           }
          },
          "colorscale": {
           "diverging": [
            [
             0,
             "#8e0152"
            ],
            [
             0.1,
             "#c51b7d"
            ],
            [
             0.2,
             "#de77ae"
            ],
            [
             0.3,
             "#f1b6da"
            ],
            [
             0.4,
             "#fde0ef"
            ],
            [
             0.5,
             "#f7f7f7"
            ],
            [
             0.6,
             "#e6f5d0"
            ],
            [
             0.7,
             "#b8e186"
            ],
            [
             0.8,
             "#7fbc41"
            ],
            [
             0.9,
             "#4d9221"
            ],
            [
             1,
             "#276419"
            ]
           ],
           "sequential": [
            [
             0,
             "#0d0887"
            ],
            [
             0.1111111111111111,
             "#46039f"
            ],
            [
             0.2222222222222222,
             "#7201a8"
            ],
            [
             0.3333333333333333,
             "#9c179e"
            ],
            [
             0.4444444444444444,
             "#bd3786"
            ],
            [
             0.5555555555555556,
             "#d8576b"
            ],
            [
             0.6666666666666666,
             "#ed7953"
            ],
            [
             0.7777777777777778,
             "#fb9f3a"
            ],
            [
             0.8888888888888888,
             "#fdca26"
            ],
            [
             1,
             "#f0f921"
            ]
           ],
           "sequentialminus": [
            [
             0,
             "#0d0887"
            ],
            [
             0.1111111111111111,
             "#46039f"
            ],
            [
             0.2222222222222222,
             "#7201a8"
            ],
            [
             0.3333333333333333,
             "#9c179e"
            ],
            [
             0.4444444444444444,
             "#bd3786"
            ],
            [
             0.5555555555555556,
             "#d8576b"
            ],
            [
             0.6666666666666666,
             "#ed7953"
            ],
            [
             0.7777777777777778,
             "#fb9f3a"
            ],
            [
             0.8888888888888888,
             "#fdca26"
            ],
            [
             1,
             "#f0f921"
            ]
           ]
          },
          "colorway": [
           "#636efa",
           "#EF553B",
           "#00cc96",
           "#ab63fa",
           "#FFA15A",
           "#19d3f3",
           "#FF6692",
           "#B6E880",
           "#FF97FF",
           "#FECB52"
          ],
          "font": {
           "color": "#2a3f5f"
          },
          "geo": {
           "bgcolor": "white",
           "lakecolor": "white",
           "landcolor": "#E5ECF6",
           "showlakes": true,
           "showland": true,
           "subunitcolor": "white"
          },
          "hoverlabel": {
           "align": "left"
          },
          "hovermode": "closest",
          "mapbox": {
           "style": "light"
          },
          "paper_bgcolor": "white",
          "plot_bgcolor": "#E5ECF6",
          "polar": {
           "angularaxis": {
            "gridcolor": "white",
            "linecolor": "white",
            "ticks": ""
           },
           "bgcolor": "#E5ECF6",
           "radialaxis": {
            "gridcolor": "white",
            "linecolor": "white",
            "ticks": ""
           }
          },
          "scene": {
           "xaxis": {
            "backgroundcolor": "#E5ECF6",
            "gridcolor": "white",
            "gridwidth": 2,
            "linecolor": "white",
            "showbackground": true,
            "ticks": "",
            "zerolinecolor": "white"
           },
           "yaxis": {
            "backgroundcolor": "#E5ECF6",
            "gridcolor": "white",
            "gridwidth": 2,
            "linecolor": "white",
            "showbackground": true,
            "ticks": "",
            "zerolinecolor": "white"
           },
           "zaxis": {
            "backgroundcolor": "#E5ECF6",
            "gridcolor": "white",
            "gridwidth": 2,
            "linecolor": "white",
            "showbackground": true,
            "ticks": "",
            "zerolinecolor": "white"
           }
          },
          "shapedefaults": {
           "line": {
            "color": "#2a3f5f"
           }
          },
          "ternary": {
           "aaxis": {
            "gridcolor": "white",
            "linecolor": "white",
            "ticks": ""
           },
           "baxis": {
            "gridcolor": "white",
            "linecolor": "white",
            "ticks": ""
           },
           "bgcolor": "#E5ECF6",
           "caxis": {
            "gridcolor": "white",
            "linecolor": "white",
            "ticks": ""
           }
          },
          "title": {
           "x": 0.05
          },
          "xaxis": {
           "automargin": true,
           "gridcolor": "white",
           "linecolor": "white",
           "ticks": "",
           "title": {
            "standoff": 15
           },
           "zerolinecolor": "white",
           "zerolinewidth": 2
          },
          "yaxis": {
           "automargin": true,
           "gridcolor": "white",
           "linecolor": "white",
           "ticks": "",
           "title": {
            "standoff": 15
           },
           "zerolinecolor": "white",
           "zerolinewidth": 2
          }
         }
        },
        "xaxis": {
         "anchor": "y",
         "domain": [
          0,
          0.26666666666666666
         ],
         "title": {
          "text": "seuil"
         }
        },
        "xaxis2": {
         "anchor": "y2",
         "domain": [
          0.3666666666666667,
          0.6333333333333333
         ],
         "title": {
          "text": "taux d'emprunt"
         }
        },
        "xaxis3": {
         "anchor": "y3",
         "domain": [
          0.7333333333333334,
          1
         ],
         "title": {
          "text": "seuil"
         }
        },
        "yaxis": {
         "anchor": "x",
         "domain": [
          0,
          1
         ],
         "title": {
          "text": "coût (u.a.)"
         }
        },
        "yaxis2": {
         "anchor": "x2",
         "domain": [
          0,
          1
         ],
         "title": {
          "text": "seuil optimal"
         }
        },
        "yaxis3": {
         "anchor": "x3",
         "domain": [
          0,
          1
         ],
         "title": {
          "text": "ROC"
         }
        }
       }
      }
     },
     "metadata": {},
     "output_type": "display_data"
    }
   ],
   "source": [
    "fig = make_subplots(rows=1, cols=3, horizontal_spacing=0.1, subplot_titles=(\"Fonction coût vs seuil\",\"Seuil optimal vs taux d'emprunt\", \"Vrai/Faux Positif/Négatif vs seuil\"))\n",
    "\n",
    "trace1 = px.line(exp_cost_func[exp_cost_func.loan_rate.isin([0,0.05,0.10,0.15])],\n",
    "    y='cost', x='trigger',\n",
    "    color = 'loan_rate').data\n",
    "for t in trace1 :\n",
    "    t.name = ('T=%s' %(t.name))\n",
    "[fig.add_trace(t, row=1, col=1) for t in trace1]\n",
    "fig.update_xaxes(title_text=\"seuil\", row=1, col=1)\n",
    "fig.update_yaxes(title_text=\"coût (u.a.)\", row=1, col=1)\n",
    "\n",
    "trace = px.line(optimized_triggers,\n",
    "    y='opt_trigger', x='loan_rate').data\n",
    "fig.add_trace(trace[0], row=1, col=2)  \n",
    "fig.update_xaxes(title_text=\"taux d'emprunt\", row=1, col=2)\n",
    "fig.update_yaxes(title_text=\"seuil optimal\", row=1, col=2)\n",
    "\n",
    "\n",
    "trace = px.line(data_TF_PN,\n",
    "    y='value', x='trigger', color='type', color_discrete_sequence=['green', 'red','green', 'red']).data\n",
    "trace[-2]['line']['dash'] = 'dash'\n",
    "trace[-1]['line']['dash'] = 'dash'\n",
    "[fig.add_trace(t, row=1, col=3) for t in trace]\n",
    "\n",
    "fig.update_xaxes(title_text=\"seuil\", row=1, col=3)\n",
    "fig.update_yaxes(title_text=\"ROC\", row=1, col=3)\n",
    "\n",
    "\n",
    "fig"
   ]
  },
  {
   "cell_type": "markdown",
   "metadata": {},
   "source": [
    "# <a name='V'>V. Interprétation Globale/Locale</a>\n",
    "\n",
    "## <a name='V.A'>V.A. Interprétation Globale</a>"
   ]
  },
  {
   "cell_type": "code",
   "execution_count": 14,
   "metadata": {},
   "outputs": [
    {
     "name": "stdout",
     "output_type": "stream",
     "text": [
      "#(  1)-> len(feat_before)= 382 ; len(feat_after)= 343 ; score=0.747 ; time=18.6\n",
      "#(  2)-> len(feat_before)= 343 ; len(feat_after)= 308 ; score=0.747 ; time=17.9\n",
      "#(  3)-> len(feat_before)= 308 ; len(feat_after)= 277 ; score=0.747 ; time=17.0\n",
      "#(  4)-> len(feat_before)= 277 ; len(feat_after)= 249 ; score=0.747 ; time=16.1\n",
      "#(  5)-> len(feat_before)= 249 ; len(feat_after)= 224 ; score=0.747 ; time=15.5\n",
      "#(  6)-> len(feat_before)= 224 ; len(feat_after)= 201 ; score=0.747 ; time=14.9\n",
      "#(  7)-> len(feat_before)= 201 ; len(feat_after)= 180 ; score=0.747 ; time=14.3\n",
      "#(  8)-> len(feat_before)= 180 ; len(feat_after)= 162 ; score=0.746 ; time=13.4\n",
      "#(  9)-> len(feat_before)= 162 ; len(feat_after)= 145 ; score=0.747 ; time=12.5\n",
      "#( 10)-> len(feat_before)= 145 ; len(feat_after)= 130 ; score=0.747 ; time=11.6\n",
      "#( 11)-> len(feat_before)= 130 ; len(feat_after)= 117 ; score=0.748 ; time=10.7\n",
      "#( 12)-> len(feat_before)= 117 ; len(feat_after)= 105 ; score=0.747 ; time=10.1\n",
      "#( 13)-> len(feat_before)= 105 ; len(feat_after)=  94 ; score=0.746 ; time= 9.3\n",
      "#( 14)-> len(feat_before)=  94 ; len(feat_after)=  84 ; score=0.746 ; time= 8.7\n",
      "#( 15)-> len(feat_before)=  84 ; len(feat_after)=  75 ; score=0.745 ; time= 7.8\n",
      "#( 16)-> len(feat_before)=  75 ; len(feat_after)=  67 ; score=0.746 ; time= 7.3\n",
      "#( 17)-> len(feat_before)=  67 ; len(feat_after)=  60 ; score=0.746 ; time= 6.6\n",
      "#( 18)-> len(feat_before)=  60 ; len(feat_after)=  54 ; score=0.745 ; time= 6.0\n",
      "#( 19)-> len(feat_before)=  54 ; len(feat_after)=  48 ; score=0.744 ; time= 5.6\n",
      "#( 20)-> len(feat_before)=  48 ; len(feat_after)=  43 ; score=0.744 ; time= 5.2\n",
      "#( 21)-> len(feat_before)=  43 ; len(feat_after)=  38 ; score=0.744 ; time= 4.8\n",
      "#( 22)-> len(feat_before)=  38 ; len(feat_after)=  34 ; score=0.742 ; time= 4.4\n",
      "#( 23)-> len(feat_before)=  34 ; len(feat_after)=  30 ; score=0.742 ; time= 4.0\n",
      "#( 24)-> len(feat_before)=  30 ; len(feat_after)=  27 ; score=0.739 ; time= 3.7\n",
      "#( 25)-> len(feat_before)=  27 ; len(feat_after)=  24 ; score=0.739 ; time= 3.3\n",
      "#( 26)-> len(feat_before)=  24 ; len(feat_after)=  21 ; score=0.735 ; time= 3.1\n",
      "#( 27)-> len(feat_before)=  21 ; len(feat_after)=  18 ; score=0.736 ; time= 2.9\n",
      "#( 28)-> len(feat_before)=  18 ; len(feat_after)=  16 ; score=0.735 ; time= 2.7\n",
      "#( 29)-> len(feat_before)=  16 ; len(feat_after)=  14 ; score=0.735 ; time= 2.4\n",
      "#( 30)-> len(feat_before)=  14 ; len(feat_after)=  12 ; score=0.731 ; time= 2.2\n",
      "#( 31)-> len(feat_before)=  12 ; len(feat_after)=  10 ; score=0.730 ; time= 1.9\n",
      "#( 32)-> len(feat_before)=  10 ; len(feat_after)=   9 ; score=0.731 ; time= 1.7\n",
      "#( 33)-> len(feat_before)=   9 ; len(feat_after)=   8 ; score=0.730 ; time= 1.6\n",
      "#( 34)-> len(feat_before)=   8 ; len(feat_after)=   7 ; score=0.729 ; time= 1.4\n",
      "#( 35)-> len(feat_before)=   7 ; len(feat_after)=   6 ; score=0.728 ; time= 1.3\n",
      "#( 36)-> len(feat_before)=   6 ; len(feat_after)=   5 ; score=0.730 ; time= 1.2\n",
      "#( 37)-> len(feat_before)=   5 ; len(feat_after)=   4 ; score=0.728 ; time= 1.0\n",
      "#( 38)-> len(feat_before)=   4 ; len(feat_after)=   3 ; score=0.727 ; time= 0.9\n",
      "#( 39)-> len(feat_before)=   3 ; len(feat_after)=   2 ; score=0.708 ; time= 0.7\n",
      "#( 40)-> len(feat_before)=   2 ; len(feat_after)=   1 ; score=0.666 ; time= 0.6\n",
      "#END-> len(feat_before)=   2 ; len(feat_after)=   1 ; score=0.666 ; time= 0.6\n"
     ]
    }
   ],
   "source": [
    "# Calcul roc et feature_importances vs nbr de variables séléctionnées\n",
    "new_features, features_list, scores = bec.explo_rfe(xtrain, ytrain.TARGET.ravel(), n_features_to_select=1, xtest=xtest, ytest=ytest, ratio_n_features=0.9 , ratio_step = 0.2, switch_coeff=1, verbose = 1)"
   ]
  },
  {
   "cell_type": "code",
   "execution_count": 15,
   "metadata": {},
   "outputs": [
    {
     "data": {
      "text/plain": [
       "0.7132288789803396"
      ]
     },
     "metadata": {},
     "output_type": "display_data"
    },
    {
     "name": "stdout",
     "output_type": "stream",
     "text": [
      "#(  1)-> len(feat_before)= 380 ; len(feat_after)= 342 ; score=0.713 ; time=19.0\n",
      "#(  2)-> len(feat_before)= 342 ; len(feat_after)= 307 ; score=0.713 ; time=18.0\n",
      "#(  3)-> len(feat_before)= 307 ; len(feat_after)= 276 ; score=0.713 ; time=17.3\n",
      "#(  4)-> len(feat_before)= 276 ; len(feat_after)= 248 ; score=0.713 ; time=16.6\n",
      "#(  5)-> len(feat_before)= 248 ; len(feat_after)= 223 ; score=0.713 ; time=16.0\n",
      "#(  6)-> len(feat_before)= 223 ; len(feat_after)= 200 ; score=0.713 ; time=15.6\n",
      "#(  7)-> len(feat_before)= 200 ; len(feat_after)= 180 ; score=0.713 ; time=14.9\n",
      "#(  8)-> len(feat_before)= 180 ; len(feat_after)= 162 ; score=0.712 ; time=14.0\n",
      "#(  9)-> len(feat_before)= 162 ; len(feat_after)= 145 ; score=0.713 ; time=12.9\n",
      "#( 10)-> len(feat_before)= 145 ; len(feat_after)= 130 ; score=0.713 ; time=11.8\n",
      "#( 11)-> len(feat_before)= 130 ; len(feat_after)= 117 ; score=0.713 ; time=10.8\n",
      "#( 12)-> len(feat_before)= 117 ; len(feat_after)= 105 ; score=0.713 ; time= 9.6\n",
      "#( 13)-> len(feat_before)= 105 ; len(feat_after)=  94 ; score=0.712 ; time= 8.7\n",
      "#( 14)-> len(feat_before)=  94 ; len(feat_after)=  84 ; score=0.713 ; time= 7.9\n",
      "#( 15)-> len(feat_before)=  84 ; len(feat_after)=  75 ; score=0.712 ; time= 7.4\n",
      "#( 16)-> len(feat_before)=  75 ; len(feat_after)=  67 ; score=0.712 ; time= 6.8\n",
      "#( 17)-> len(feat_before)=  67 ; len(feat_after)=  60 ; score=0.710 ; time= 6.3\n",
      "#( 18)-> len(feat_before)=  60 ; len(feat_after)=  54 ; score=0.709 ; time= 5.8\n",
      "#( 19)-> len(feat_before)=  54 ; len(feat_after)=  48 ; score=0.709 ; time= 5.4\n",
      "#( 20)-> len(feat_before)=  48 ; len(feat_after)=  43 ; score=0.708 ; time= 5.0\n",
      "#( 21)-> len(feat_before)=  43 ; len(feat_after)=  38 ; score=0.708 ; time= 4.7\n",
      "#( 22)-> len(feat_before)=  38 ; len(feat_after)=  34 ; score=0.708 ; time= 4.3\n",
      "#( 23)-> len(feat_before)=  34 ; len(feat_after)=  30 ; score=0.706 ; time= 3.9\n",
      "#( 24)-> len(feat_before)=  30 ; len(feat_after)=  27 ; score=0.705 ; time= 3.5\n",
      "#( 25)-> len(feat_before)=  27 ; len(feat_after)=  24 ; score=0.704 ; time= 3.2\n",
      "#( 26)-> len(feat_before)=  24 ; len(feat_after)=  21 ; score=0.700 ; time= 3.0\n",
      "#( 27)-> len(feat_before)=  21 ; len(feat_after)=  18 ; score=0.697 ; time= 2.7\n",
      "#( 28)-> len(feat_before)=  18 ; len(feat_after)=  16 ; score=0.698 ; time= 2.4\n",
      "#( 29)-> len(feat_before)=  16 ; len(feat_after)=  14 ; score=0.684 ; time= 2.2\n",
      "#( 30)-> len(feat_before)=  14 ; len(feat_after)=  12 ; score=0.678 ; time= 2.1\n",
      "#( 31)-> len(feat_before)=  12 ; len(feat_after)=  10 ; score=0.671 ; time= 1.9\n",
      "#( 32)-> len(feat_before)=  10 ; len(feat_after)=   9 ; score=0.676 ; time= 1.7\n",
      "#( 33)-> len(feat_before)=   9 ; len(feat_after)=   8 ; score=0.674 ; time= 1.6\n",
      "#( 34)-> len(feat_before)=   8 ; len(feat_after)=   7 ; score=0.671 ; time= 1.5\n",
      "#( 35)-> len(feat_before)=   7 ; len(feat_after)=   6 ; score=0.664 ; time= 1.3\n",
      "#( 36)-> len(feat_before)=   6 ; len(feat_after)=   5 ; score=0.663 ; time= 1.2\n",
      "#( 37)-> len(feat_before)=   5 ; len(feat_after)=   4 ; score=0.661 ; time= 1.1\n",
      "#( 38)-> len(feat_before)=   4 ; len(feat_after)=   3 ; score=0.655 ; time= 0.9\n",
      "#( 39)-> len(feat_before)=   3 ; len(feat_after)=   2 ; score=0.653 ; time= 0.8\n",
      "#( 40)-> len(feat_before)=   2 ; len(feat_after)=   1 ; score=0.647 ; time= 0.6\n",
      "#END-> len(feat_before)=   2 ; len(feat_after)=   1 ; score=0.647 ; time= 0.6\n"
     ]
    }
   ],
   "source": [
    "# Calcul roc et feature_importances vs nbr de variables séléctionnées pour un modèle sans les variables EXT_SOURCE_2 et 3 (scores de solvabilité)\n",
    "features_wo_source = xtrain.columns[1:][~xtrain.columns[1:].isin(['EXT_SOURCE_2','EXT_SOURCE_3'])]\n",
    "gbc_wo_source = MasterModel(name='GBC_wo_source', classif=GradientBoostingClassifier(random_state=RANDOM_STATE), features=features_wo_source)\n",
    "gbc_wo_source.fit(xtrain, ytrain.TARGET.ravel())\n",
    "display(gbc_wo_source.score(xtest, ytest))\n",
    "new_features_wo_source, features_list_wo_source, scores_wo_source = gbc_wo_source.explo_rfe(xtrain, ytrain.TARGET.ravel(), n_features_to_select=1, xtest=xtest, ytest=ytest, ratio_n_features=0.9 , ratio_step = 0.2, switch_coeff=1, verbose = 1)"
   ]
  },
  {
   "cell_type": "code",
   "execution_count": 16,
   "metadata": {},
   "outputs": [
    {
     "name": "stdout",
     "output_type": "stream",
     "text": [
      "Score du modèle à 16 variables (avec score de solvabilité) : 0.735\n",
      "Score du modèle à 16 variables (sans score de solvabilité) : 0.698\n"
     ]
    }
   ],
   "source": [
    "# Entraine modèle avec/sans scores de solvabilité avec uniquement 16 variables.\n",
    "n_features = 16\n",
    "feat_w_source = features_list[n_features]\n",
    "feat_wo_source = features_list_wo_source[n_features]\n",
    "gbc_w_source_rfe = MasterModel(name='GBC_w_source_rfe_%d'%(n_features), classif=GradientBoostingClassifier(random_state=RANDOM_STATE), features=feat_w_source)\n",
    "gbc_wo_source_rfe = MasterModel(name='GBC_wo_source_rfe_%d'%(n_features), classif=GradientBoostingClassifier(random_state=RANDOM_STATE), features=feat_wo_source)\n",
    "\n",
    "gbc_w_source_rfe.fit(xtrain, ytrain.TARGET.ravel())\n",
    "gbc_wo_source_rfe.fit(xtrain, ytrain.TARGET.ravel())\n",
    "\n",
    "score_w_source = gbc_w_source_rfe.score(xtest, ytest)\n",
    "score_wo_source = gbc_wo_source_rfe.score(xtest, ytest)\n",
    "\n",
    "print('Score du modèle à %d variables (avec score de solvabilité) : %.3f' %(n_features, score_w_source))\n",
    "print('Score du modèle à %d variables (sans score de solvabilité) : %.3f' %(n_features, score_wo_source))\n",
    "\n",
    "fi_w_source = pd.Series(gbc_w_source_rfe.classif.feature_importances_, index=gbc_w_source_rfe.features).sort_values()\n",
    "fi_wo_source = pd.Series(gbc_wo_source_rfe.classif.feature_importances_, index=gbc_wo_source_rfe.features).sort_values()\n"
   ]
  },
  {
   "cell_type": "code",
   "execution_count": 17,
   "metadata": {},
   "outputs": [
    {
     "data": {
      "application/vnd.plotly.v1+json": {
       "config": {
        "plotlyServerURL": "https://plot.ly"
       },
       "data": [
        {
         "name": "avec solv.",
         "type": "scatter",
         "x": [
          1,
          2,
          3,
          4,
          5,
          6,
          7,
          8,
          9,
          10,
          12,
          14,
          16,
          18,
          21,
          24,
          27,
          30,
          34,
          38,
          43,
          48,
          54,
          60,
          67,
          75,
          84,
          94,
          105,
          117,
          130,
          145,
          162,
          180,
          201,
          224,
          249,
          277,
          308,
          343
         ],
         "xaxis": "x",
         "y": [
          0.6663304857848285,
          0.7083529484773787,
          0.7270768393682964,
          0.7277499552333627,
          0.7304568174859437,
          0.727881914168368,
          0.7293437386112823,
          0.7300258868773846,
          0.7305662508699342,
          0.7304065004861021,
          0.7314018230356054,
          0.7346657027701465,
          0.7348569714691634,
          0.7360412878017845,
          0.7352360358369319,
          0.7393763491423374,
          0.7391083132421465,
          0.7422065022677592,
          0.7423072071333547,
          0.744253397685187,
          0.7439343173085288,
          0.7443574132300452,
          0.7453097125636554,
          0.7458759936617048,
          0.7460812890069053,
          0.7452912297728118,
          0.7464104491587626,
          0.7455195465302278,
          0.7474294737535382,
          0.7475594522465345,
          0.7466999260011736,
          0.7471544983989609,
          0.7464973015401626,
          0.7471243055165608,
          0.747209749788278,
          0.747208409741901,
          0.7472476574461907,
          0.7470920523178608,
          0.7471876340184005,
          0.7471032631450512
         ],
         "yaxis": "y"
        },
        {
         "name": "sans solv.",
         "type": "scatter",
         "x": [
          1,
          2,
          3,
          4,
          5,
          6,
          7,
          8,
          9,
          10,
          12,
          14,
          16,
          18,
          21,
          24,
          27,
          30,
          34,
          38,
          43,
          48,
          54,
          60,
          67,
          75,
          84,
          94,
          105,
          117,
          130,
          145,
          162,
          180,
          200,
          223,
          248,
          276,
          307,
          342
         ],
         "xaxis": "x",
         "y": [
          0.646774099990401,
          0.6527307294514628,
          0.6546651286361445,
          0.6609616366182186,
          0.663069597432572,
          0.6636756593307436,
          0.6711652850316079,
          0.6739995337663561,
          0.6761240663941532,
          0.6709975057801261,
          0.6784457930320991,
          0.6836480852841228,
          0.6982781030636594,
          0.6974988104435935,
          0.6999933494142903,
          0.7043296952495516,
          0.704881238439873,
          0.7058569041065095,
          0.7084017364550769,
          0.7081081041476677,
          0.7082242397654059,
          0.7089669277394904,
          0.709424351189041,
          0.7102770719045783,
          0.7116886788401893,
          0.7120372814755003,
          0.7132947294278409,
          0.7124148146190772,
          0.7131847483344259,
          0.7128305404857058,
          0.7134318241396324,
          0.7131895071606101,
          0.7118578149536885,
          0.712738954501582,
          0.7133039187748524,
          0.713230221428951,
          0.7131954422808655,
          0.7131206559220731,
          0.7132597701121813,
          0.7132464108867658
         ],
         "yaxis": "y"
        },
        {
         "name": "avec solv.",
         "orientation": "h",
         "type": "bar",
         "x": [
          0.022146003998217485,
          0.02280852687468082,
          0.0285856636695557,
          0.030441513424380617,
          0.030548117807467728,
          0.030855577639372612,
          0.033592180919294466,
          0.0352672016295295,
          0.0363505355279407,
          0.037020622819844654,
          0.04428298357237208,
          0.04942675910340467,
          0.05334403115284473,
          0.06278265471159294,
          0.1833846986902862,
          0.29916292845921516
         ],
         "xaxis": "x2",
         "y": [
          "INCOME_CREDIT_PERC",
          "BURO_DAYS_CREDIT_ENDDATE_MEAN",
          "DAYS_EMPLOYED",
          "BURO_DAYS_CREDIT_UPDATE_MEAN",
          "DAYS_EMPLOYED_PERC",
          "CODE_GENDER",
          "INSTAL_AMT_INSTALMENT_MAX",
          "BURO_DAYS_CREDIT_ENDDATE_MAX",
          "BURO_AMT_CREDIT_SUM_DEBT_MEAN",
          "PREV_AMT_APPLICATION_MEAN",
          "AMT_CREDIT",
          "DAYS_BIRTH",
          "PREV_APP_CREDIT_PERC_MEAN",
          "PAYMENT_RATE",
          "EXT_SOURCE_2",
          "EXT_SOURCE_3"
         ],
         "yaxis": "y2"
        },
        {
         "name": "sans solv.",
         "orientation": "h",
         "type": "bar",
         "x": [
          0.0421626289851369,
          0.04463577183372836,
          0.04609610115092008,
          0.047431247095920656,
          0.04969783131133746,
          0.05143155859787132,
          0.051951800007267256,
          0.06071118406968567,
          0.06262609597687885,
          0.06488437662864263,
          0.06626685153973805,
          0.06697674026129886,
          0.06780397863304406,
          0.07086378155025105,
          0.08804234919712857,
          0.11841770316115025
         ],
         "xaxis": "x3",
         "y": [
          "NAME_EDUCATION_TYPE",
          "INSTAL_DPD_MEAN",
          "BURO_DAYS_CREDIT_ENDDATE_MEAN",
          "REGION_RATING_CLIENT_W_CITY",
          "BURO_CREDIT_ACTIVE_Closed_MEAN",
          "PREV_AMT_APPLICATION_MEAN",
          "APPROVED_DAYS_DECISION_MIN",
          "BURO_DAYS_CREDIT_ENDDATE_MAX",
          "PREV_APP_CREDIT_PERC_MEAN",
          "PREV_NAME_CONTRACT_STATUS_Refused_MEAN",
          "BURO_DAYS_CREDIT_MAX",
          "DAYS_EMPLOYED_PERC",
          "AMT_ANNUITY",
          "BURO_DAYS_CREDIT_MEAN",
          "PAYMENT_RATE",
          "DAYS_BIRTH"
         ],
         "yaxis": "y3"
        }
       ],
       "layout": {
        "annotations": [
         {
          "font": {
           "size": 16
          },
          "showarrow": false,
          "text": "ROC vs nbr variables",
          "x": 0.08333333333333333,
          "xanchor": "center",
          "xref": "paper",
          "y": 1,
          "yanchor": "bottom",
          "yref": "paper"
         },
         {
          "font": {
           "size": 16
          },
          "showarrow": false,
          "text": "F.I. : modèle à 16 variables avec score de solv. (ROC=0.735)",
          "x": 0.49999999999999994,
          "xanchor": "center",
          "xref": "paper",
          "y": 1,
          "yanchor": "bottom",
          "yref": "paper"
         },
         {
          "font": {
           "size": 16
          },
          "showarrow": false,
          "text": "F.I. : modèle à 16 variables sans score de solv. (ROC=0.698)",
          "x": 0.9166666666666665,
          "xanchor": "center",
          "xref": "paper",
          "y": 1,
          "yanchor": "bottom",
          "yref": "paper"
         }
        ],
        "template": {
         "data": {
          "bar": [
           {
            "error_x": {
             "color": "#2a3f5f"
            },
            "error_y": {
             "color": "#2a3f5f"
            },
            "marker": {
             "line": {
              "color": "#E5ECF6",
              "width": 0.5
             },
             "pattern": {
              "fillmode": "overlay",
              "size": 10,
              "solidity": 0.2
             }
            },
            "type": "bar"
           }
          ],
          "barpolar": [
           {
            "marker": {
             "line": {
              "color": "#E5ECF6",
              "width": 0.5
             },
             "pattern": {
              "fillmode": "overlay",
              "size": 10,
              "solidity": 0.2
             }
            },
            "type": "barpolar"
           }
          ],
          "carpet": [
           {
            "aaxis": {
             "endlinecolor": "#2a3f5f",
             "gridcolor": "white",
             "linecolor": "white",
             "minorgridcolor": "white",
             "startlinecolor": "#2a3f5f"
            },
            "baxis": {
             "endlinecolor": "#2a3f5f",
             "gridcolor": "white",
             "linecolor": "white",
             "minorgridcolor": "white",
             "startlinecolor": "#2a3f5f"
            },
            "type": "carpet"
           }
          ],
          "choropleth": [
           {
            "colorbar": {
             "outlinewidth": 0,
             "ticks": ""
            },
            "type": "choropleth"
           }
          ],
          "contour": [
           {
            "colorbar": {
             "outlinewidth": 0,
             "ticks": ""
            },
            "colorscale": [
             [
              0,
              "#0d0887"
             ],
             [
              0.1111111111111111,
              "#46039f"
             ],
             [
              0.2222222222222222,
              "#7201a8"
             ],
             [
              0.3333333333333333,
              "#9c179e"
             ],
             [
              0.4444444444444444,
              "#bd3786"
             ],
             [
              0.5555555555555556,
              "#d8576b"
             ],
             [
              0.6666666666666666,
              "#ed7953"
             ],
             [
              0.7777777777777778,
              "#fb9f3a"
             ],
             [
              0.8888888888888888,
              "#fdca26"
             ],
             [
              1,
              "#f0f921"
             ]
            ],
            "type": "contour"
           }
          ],
          "contourcarpet": [
           {
            "colorbar": {
             "outlinewidth": 0,
             "ticks": ""
            },
            "type": "contourcarpet"
           }
          ],
          "heatmap": [
           {
            "colorbar": {
             "outlinewidth": 0,
             "ticks": ""
            },
            "colorscale": [
             [
              0,
              "#0d0887"
             ],
             [
              0.1111111111111111,
              "#46039f"
             ],
             [
              0.2222222222222222,
              "#7201a8"
             ],
             [
              0.3333333333333333,
              "#9c179e"
             ],
             [
              0.4444444444444444,
              "#bd3786"
             ],
             [
              0.5555555555555556,
              "#d8576b"
             ],
             [
              0.6666666666666666,
              "#ed7953"
             ],
             [
              0.7777777777777778,
              "#fb9f3a"
             ],
             [
              0.8888888888888888,
              "#fdca26"
             ],
             [
              1,
              "#f0f921"
             ]
            ],
            "type": "heatmap"
           }
          ],
          "heatmapgl": [
           {
            "colorbar": {
             "outlinewidth": 0,
             "ticks": ""
            },
            "colorscale": [
             [
              0,
              "#0d0887"
             ],
             [
              0.1111111111111111,
              "#46039f"
             ],
             [
              0.2222222222222222,
              "#7201a8"
             ],
             [
              0.3333333333333333,
              "#9c179e"
             ],
             [
              0.4444444444444444,
              "#bd3786"
             ],
             [
              0.5555555555555556,
              "#d8576b"
             ],
             [
              0.6666666666666666,
              "#ed7953"
             ],
             [
              0.7777777777777778,
              "#fb9f3a"
             ],
             [
              0.8888888888888888,
              "#fdca26"
             ],
             [
              1,
              "#f0f921"
             ]
            ],
            "type": "heatmapgl"
           }
          ],
          "histogram": [
           {
            "marker": {
             "pattern": {
              "fillmode": "overlay",
              "size": 10,
              "solidity": 0.2
             }
            },
            "type": "histogram"
           }
          ],
          "histogram2d": [
           {
            "colorbar": {
             "outlinewidth": 0,
             "ticks": ""
            },
            "colorscale": [
             [
              0,
              "#0d0887"
             ],
             [
              0.1111111111111111,
              "#46039f"
             ],
             [
              0.2222222222222222,
              "#7201a8"
             ],
             [
              0.3333333333333333,
              "#9c179e"
             ],
             [
              0.4444444444444444,
              "#bd3786"
             ],
             [
              0.5555555555555556,
              "#d8576b"
             ],
             [
              0.6666666666666666,
              "#ed7953"
             ],
             [
              0.7777777777777778,
              "#fb9f3a"
             ],
             [
              0.8888888888888888,
              "#fdca26"
             ],
             [
              1,
              "#f0f921"
             ]
            ],
            "type": "histogram2d"
           }
          ],
          "histogram2dcontour": [
           {
            "colorbar": {
             "outlinewidth": 0,
             "ticks": ""
            },
            "colorscale": [
             [
              0,
              "#0d0887"
             ],
             [
              0.1111111111111111,
              "#46039f"
             ],
             [
              0.2222222222222222,
              "#7201a8"
             ],
             [
              0.3333333333333333,
              "#9c179e"
             ],
             [
              0.4444444444444444,
              "#bd3786"
             ],
             [
              0.5555555555555556,
              "#d8576b"
             ],
             [
              0.6666666666666666,
              "#ed7953"
             ],
             [
              0.7777777777777778,
              "#fb9f3a"
             ],
             [
              0.8888888888888888,
              "#fdca26"
             ],
             [
              1,
              "#f0f921"
             ]
            ],
            "type": "histogram2dcontour"
           }
          ],
          "mesh3d": [
           {
            "colorbar": {
             "outlinewidth": 0,
             "ticks": ""
            },
            "type": "mesh3d"
           }
          ],
          "parcoords": [
           {
            "line": {
             "colorbar": {
              "outlinewidth": 0,
              "ticks": ""
             }
            },
            "type": "parcoords"
           }
          ],
          "pie": [
           {
            "automargin": true,
            "type": "pie"
           }
          ],
          "scatter": [
           {
            "fillpattern": {
             "fillmode": "overlay",
             "size": 10,
             "solidity": 0.2
            },
            "type": "scatter"
           }
          ],
          "scatter3d": [
           {
            "line": {
             "colorbar": {
              "outlinewidth": 0,
              "ticks": ""
             }
            },
            "marker": {
             "colorbar": {
              "outlinewidth": 0,
              "ticks": ""
             }
            },
            "type": "scatter3d"
           }
          ],
          "scattercarpet": [
           {
            "marker": {
             "colorbar": {
              "outlinewidth": 0,
              "ticks": ""
             }
            },
            "type": "scattercarpet"
           }
          ],
          "scattergeo": [
           {
            "marker": {
             "colorbar": {
              "outlinewidth": 0,
              "ticks": ""
             }
            },
            "type": "scattergeo"
           }
          ],
          "scattergl": [
           {
            "marker": {
             "colorbar": {
              "outlinewidth": 0,
              "ticks": ""
             }
            },
            "type": "scattergl"
           }
          ],
          "scattermapbox": [
           {
            "marker": {
             "colorbar": {
              "outlinewidth": 0,
              "ticks": ""
             }
            },
            "type": "scattermapbox"
           }
          ],
          "scatterpolar": [
           {
            "marker": {
             "colorbar": {
              "outlinewidth": 0,
              "ticks": ""
             }
            },
            "type": "scatterpolar"
           }
          ],
          "scatterpolargl": [
           {
            "marker": {
             "colorbar": {
              "outlinewidth": 0,
              "ticks": ""
             }
            },
            "type": "scatterpolargl"
           }
          ],
          "scatterternary": [
           {
            "marker": {
             "colorbar": {
              "outlinewidth": 0,
              "ticks": ""
             }
            },
            "type": "scatterternary"
           }
          ],
          "surface": [
           {
            "colorbar": {
             "outlinewidth": 0,
             "ticks": ""
            },
            "colorscale": [
             [
              0,
              "#0d0887"
             ],
             [
              0.1111111111111111,
              "#46039f"
             ],
             [
              0.2222222222222222,
              "#7201a8"
             ],
             [
              0.3333333333333333,
              "#9c179e"
             ],
             [
              0.4444444444444444,
              "#bd3786"
             ],
             [
              0.5555555555555556,
              "#d8576b"
             ],
             [
              0.6666666666666666,
              "#ed7953"
             ],
             [
              0.7777777777777778,
              "#fb9f3a"
             ],
             [
              0.8888888888888888,
              "#fdca26"
             ],
             [
              1,
              "#f0f921"
             ]
            ],
            "type": "surface"
           }
          ],
          "table": [
           {
            "cells": {
             "fill": {
              "color": "#EBF0F8"
             },
             "line": {
              "color": "white"
             }
            },
            "header": {
             "fill": {
              "color": "#C8D4E3"
             },
             "line": {
              "color": "white"
             }
            },
            "type": "table"
           }
          ]
         },
         "layout": {
          "annotationdefaults": {
           "arrowcolor": "#2a3f5f",
           "arrowhead": 0,
           "arrowwidth": 1
          },
          "autotypenumbers": "strict",
          "coloraxis": {
           "colorbar": {
            "outlinewidth": 0,
            "ticks": ""
           }
          },
          "colorscale": {
           "diverging": [
            [
             0,
             "#8e0152"
            ],
            [
             0.1,
             "#c51b7d"
            ],
            [
             0.2,
             "#de77ae"
            ],
            [
             0.3,
             "#f1b6da"
            ],
            [
             0.4,
             "#fde0ef"
            ],
            [
             0.5,
             "#f7f7f7"
            ],
            [
             0.6,
             "#e6f5d0"
            ],
            [
             0.7,
             "#b8e186"
            ],
            [
             0.8,
             "#7fbc41"
            ],
            [
             0.9,
             "#4d9221"
            ],
            [
             1,
             "#276419"
            ]
           ],
           "sequential": [
            [
             0,
             "#0d0887"
            ],
            [
             0.1111111111111111,
             "#46039f"
            ],
            [
             0.2222222222222222,
             "#7201a8"
            ],
            [
             0.3333333333333333,
             "#9c179e"
            ],
            [
             0.4444444444444444,
             "#bd3786"
            ],
            [
             0.5555555555555556,
             "#d8576b"
            ],
            [
             0.6666666666666666,
             "#ed7953"
            ],
            [
             0.7777777777777778,
             "#fb9f3a"
            ],
            [
             0.8888888888888888,
             "#fdca26"
            ],
            [
             1,
             "#f0f921"
            ]
           ],
           "sequentialminus": [
            [
             0,
             "#0d0887"
            ],
            [
             0.1111111111111111,
             "#46039f"
            ],
            [
             0.2222222222222222,
             "#7201a8"
            ],
            [
             0.3333333333333333,
             "#9c179e"
            ],
            [
             0.4444444444444444,
             "#bd3786"
            ],
            [
             0.5555555555555556,
             "#d8576b"
            ],
            [
             0.6666666666666666,
             "#ed7953"
            ],
            [
             0.7777777777777778,
             "#fb9f3a"
            ],
            [
             0.8888888888888888,
             "#fdca26"
            ],
            [
             1,
             "#f0f921"
            ]
           ]
          },
          "colorway": [
           "#636efa",
           "#EF553B",
           "#00cc96",
           "#ab63fa",
           "#FFA15A",
           "#19d3f3",
           "#FF6692",
           "#B6E880",
           "#FF97FF",
           "#FECB52"
          ],
          "font": {
           "color": "#2a3f5f"
          },
          "geo": {
           "bgcolor": "white",
           "lakecolor": "white",
           "landcolor": "#E5ECF6",
           "showlakes": true,
           "showland": true,
           "subunitcolor": "white"
          },
          "hoverlabel": {
           "align": "left"
          },
          "hovermode": "closest",
          "mapbox": {
           "style": "light"
          },
          "paper_bgcolor": "white",
          "plot_bgcolor": "#E5ECF6",
          "polar": {
           "angularaxis": {
            "gridcolor": "white",
            "linecolor": "white",
            "ticks": ""
           },
           "bgcolor": "#E5ECF6",
           "radialaxis": {
            "gridcolor": "white",
            "linecolor": "white",
            "ticks": ""
           }
          },
          "scene": {
           "xaxis": {
            "backgroundcolor": "#E5ECF6",
            "gridcolor": "white",
            "gridwidth": 2,
            "linecolor": "white",
            "showbackground": true,
            "ticks": "",
            "zerolinecolor": "white"
           },
           "yaxis": {
            "backgroundcolor": "#E5ECF6",
            "gridcolor": "white",
            "gridwidth": 2,
            "linecolor": "white",
            "showbackground": true,
            "ticks": "",
            "zerolinecolor": "white"
           },
           "zaxis": {
            "backgroundcolor": "#E5ECF6",
            "gridcolor": "white",
            "gridwidth": 2,
            "linecolor": "white",
            "showbackground": true,
            "ticks": "",
            "zerolinecolor": "white"
           }
          },
          "shapedefaults": {
           "line": {
            "color": "#2a3f5f"
           }
          },
          "ternary": {
           "aaxis": {
            "gridcolor": "white",
            "linecolor": "white",
            "ticks": ""
           },
           "baxis": {
            "gridcolor": "white",
            "linecolor": "white",
            "ticks": ""
           },
           "bgcolor": "#E5ECF6",
           "caxis": {
            "gridcolor": "white",
            "linecolor": "white",
            "ticks": ""
           }
          },
          "title": {
           "x": 0.05
          },
          "xaxis": {
           "automargin": true,
           "gridcolor": "white",
           "linecolor": "white",
           "ticks": "",
           "title": {
            "standoff": 15
           },
           "zerolinecolor": "white",
           "zerolinewidth": 2
          },
          "yaxis": {
           "automargin": true,
           "gridcolor": "white",
           "linecolor": "white",
           "ticks": "",
           "title": {
            "standoff": 15
           },
           "zerolinecolor": "white",
           "zerolinewidth": 2
          }
         }
        },
        "xaxis": {
         "anchor": "y",
         "domain": [
          0,
          0.16666666666666666
         ],
         "title": {
          "text": "nbr variables"
         }
        },
        "xaxis2": {
         "anchor": "y2",
         "domain": [
          0.41666666666666663,
          0.5833333333333333
         ],
         "title": {
          "text": "Importance des variables"
         }
        },
        "xaxis3": {
         "anchor": "y3",
         "domain": [
          0.8333333333333333,
          0.9999999999999999
         ],
         "title": {
          "text": "Importance des variables"
         }
        },
        "yaxis": {
         "anchor": "x",
         "domain": [
          0,
          1
         ],
         "title": {
          "text": "ROC"
         }
        },
        "yaxis2": {
         "anchor": "x2",
         "domain": [
          0,
          1
         ]
        },
        "yaxis3": {
         "anchor": "x3",
         "domain": [
          0,
          1
         ]
        }
       }
      }
     },
     "metadata": {},
     "output_type": "display_data"
    }
   ],
   "source": [
    "fig = make_subplots(\n",
    "    rows=1, \n",
    "    cols=3, \n",
    "    horizontal_spacing=0.25, \n",
    "    subplot_titles=(\n",
    "        \"ROC vs nbr variables\",\n",
    "        \"F.I. : modèle à 16 variables avec score de solv. (ROC=%.3f)\" %(score_w_source), \n",
    "        \"F.I. : modèle à 16 variables sans score de solv. (ROC=%.3f)\" %(score_wo_source), \n",
    "        )\n",
    "    )\n",
    "\n",
    "score_series = pd.Series(scores).sort_index()\n",
    "score_series_wo_source = pd.Series(scores_wo_source).sort_index()\n",
    "\n",
    "\n",
    "fig.add_trace(go.Scatter(\n",
    "    name='avec solv.',\n",
    "    y=score_series, x=score_series.index,\n",
    "), row=1, col=1)\n",
    "\n",
    "fig.add_trace(go.Scatter(\n",
    "    name='sans solv.',\n",
    "    y=score_series_wo_source, x=score_series_wo_source.index,\n",
    "), row=1, col=1)\n",
    "fig.update_xaxes(title_text=\"nbr variables\", row=1, col=1)\n",
    "fig.update_yaxes(title_text=\"ROC\", row=1, col=1)\n",
    "\n",
    "\n",
    "fig.add_trace(go.Bar(\n",
    "    name='avec solv.',\n",
    "    x=fi_w_source, y=fi_w_source.index, orientation='h'\n",
    "), row=1, col=2)\n",
    "fig.update_xaxes(title_text=\"Importance des variables\", row=1, col=2)\n",
    "\n",
    "fig.add_trace(go.Bar(\n",
    "    name='sans solv.',\n",
    "    x=fi_wo_source, y=fi_wo_source.index, orientation='h', \n",
    "), row=1, col=3)\n",
    "fig.update_xaxes(title_text=\"Importance des variables\", row=1, col=3)\n",
    "fig\n",
    "\n"
   ]
  },
  {
   "cell_type": "markdown",
   "metadata": {},
   "source": [
    "## <a name='V.B'>V.B. Interprétation locale</a>"
   ]
  },
  {
   "cell_type": "code",
   "execution_count": 19,
   "metadata": {},
   "outputs": [
    {
     "name": "stderr",
     "output_type": "stream",
     "text": [
      "i:\\Travail\\OpenClassroom\\Projet 7\\OC-Projet7-Scorring_App\\OC-Projet7-Scoring_App-API_Part\\venv\\lib\\site-packages\\tqdm\\auto.py:22: TqdmWarning:\n",
      "\n",
      "IProgress not found. Please update jupyter and ipywidgets. See https://ipywidgets.readthedocs.io/en/stable/user_install.html\n",
      "\n"
     ]
    }
   ],
   "source": [
    "gbc_w_source_rfe.create_shap_explainer(xtrain)\n",
    "gbc_wo_source_rfe.create_shap_explainer(xtrain)"
   ]
  },
  {
   "cell_type": "code",
   "execution_count": 35,
   "metadata": {},
   "outputs": [],
   "source": [
    "ix = 0\n",
    "x = xtest.iloc[[ix]].copy()\n",
    "x1 = x.copy()\n",
    "x1['EXT_SOURCE_3'] = x1['EXT_SOURCE_3'] - x1['EXT_SOURCE_3']/10\n",
    "\n",
    "x2 = x.copy()\n",
    "x2['DAYS_BIRTH'] = x2['DAYS_BIRTH'] - x2['DAYS_BIRTH']/10\n",
    "contribs_w_source = gbc_w_source_rfe.predict_contrib(x)\n",
    "contribs_wo_source = gbc_wo_source_rfe.predict_contrib(x)\n",
    "\n",
    "contribs_w_source1 = gbc_w_source_rfe.predict_contrib(x1)\n",
    "contribs_wo_source2 = gbc_wo_source_rfe.predict_contrib(x2)"
   ]
  },
  {
   "cell_type": "code",
   "execution_count": 36,
   "metadata": {},
   "outputs": [],
   "source": [
    "sorted_feat_w_score= pd.Series(gbc_w_source_rfe.classif.feature_importances_, index=gbc_w_source_rfe.features ).sort_values(ascending=True).index\n",
    "sorted_feat_wo_score= pd.Series(gbc_wo_source_rfe.classif.feature_importances_, index=gbc_wo_source_rfe.features ).sort_values(ascending=True).index"
   ]
  },
  {
   "cell_type": "code",
   "execution_count": 37,
   "metadata": {},
   "outputs": [
    {
     "data": {
      "application/vnd.plotly.v1+json": {
       "config": {
        "plotlyServerURL": "https://plot.ly"
       },
       "data": [
        {
         "connector": {
          "line": {
           "color": "rgb(0, 0, 0)",
           "dash": "solid",
           "width": 4
          },
          "mode": "between"
         },
         "measure": [
          "relative",
          "relative",
          "relative",
          "relative",
          "relative",
          "relative",
          "relative",
          "relative",
          "relative",
          "relative",
          "relative",
          "relative",
          "relative",
          "relative",
          "relative",
          "relative",
          "relative",
          "total"
         ],
         "name": "Prediction",
         "orientation": "h",
         "type": "waterfall",
         "x": [
          0.5042500762972699,
          -0.027235794562310862,
          -0.018234082079552336,
          0.011299508196937591,
          -0.005376450623863541,
          0.02642601937917253,
          0.040530629104837554,
          0.01085482535478465,
          -0.0061986425263119505,
          0.00739502649608778,
          -0.010268363291314147,
          -0.03016188014130485,
          -0.0222998461851924,
          0.05816917360122295,
          -0.05512025967125789,
          0.01735064465457089,
          0.16502311442777867,
          0.6664036984315547
         ],
         "xaxis": "x",
         "y": [
          "Base",
          "INCOME_CREDIT_PERC",
          "BURO_DAYS_CREDIT_ENDDATE_MEAN",
          "DAYS_EMPLOYED",
          "BURO_DAYS_CREDIT_UPDATE_MEAN",
          "DAYS_EMPLOYED_PERC",
          "CODE_GENDER",
          "INSTAL_AMT_INSTALMENT_MAX",
          "BURO_DAYS_CREDIT_ENDDATE_MAX",
          "BURO_AMT_CREDIT_SUM_DEBT_MEAN",
          "PREV_AMT_APPLICATION_MEAN",
          "AMT_CREDIT",
          "DAYS_BIRTH",
          "PREV_APP_CREDIT_PERC_MEAN",
          "PAYMENT_RATE",
          "EXT_SOURCE_2",
          "EXT_SOURCE_3",
          "Prediction"
         ],
         "yaxis": "y"
        },
        {
         "connector": {
          "line": {
           "color": "rgb(0, 0, 0)",
           "dash": "solid",
           "width": 4
          },
          "mode": "between"
         },
         "measure": [
          "relative",
          "relative",
          "relative",
          "relative",
          "relative",
          "relative",
          "relative",
          "relative",
          "relative",
          "relative",
          "relative",
          "relative",
          "relative",
          "relative",
          "relative",
          "relative",
          "relative",
          "total"
         ],
         "name": "Prediction",
         "orientation": "h",
         "type": "waterfall",
         "x": [
          0.5042500762972699,
          -0.029151001027710826,
          -0.018781457653196776,
          0.015252138057622907,
          -0.005954411486517324,
          0.02710666323725156,
          0.046910965377891606,
          0.011108181706992291,
          -0.0207490762337707,
          0.007597556182376919,
          -0.012056779647717784,
          -0.031203760496447897,
          -0.023351717220708924,
          0.029697314299548683,
          -0.0572951729405986,
          0.01578875875614824,
          0.11542650864660978,
          0.574594785855043
         ],
         "xaxis": "x2",
         "y": [
          "Base",
          "INCOME_CREDIT_PERC",
          "BURO_DAYS_CREDIT_ENDDATE_MEAN",
          "DAYS_EMPLOYED",
          "BURO_DAYS_CREDIT_UPDATE_MEAN",
          "DAYS_EMPLOYED_PERC",
          "CODE_GENDER",
          "INSTAL_AMT_INSTALMENT_MAX",
          "BURO_DAYS_CREDIT_ENDDATE_MAX",
          "BURO_AMT_CREDIT_SUM_DEBT_MEAN",
          "PREV_AMT_APPLICATION_MEAN",
          "AMT_CREDIT",
          "DAYS_BIRTH",
          "PREV_APP_CREDIT_PERC_MEAN",
          "PAYMENT_RATE",
          "EXT_SOURCE_2",
          "EXT_SOURCE_3",
          "Prediction"
         ],
         "yaxis": "y2"
        }
       ],
       "layout": {
        "showlegend": false,
        "template": {
         "data": {
          "bar": [
           {
            "error_x": {
             "color": "#2a3f5f"
            },
            "error_y": {
             "color": "#2a3f5f"
            },
            "marker": {
             "line": {
              "color": "#E5ECF6",
              "width": 0.5
             },
             "pattern": {
              "fillmode": "overlay",
              "size": 10,
              "solidity": 0.2
             }
            },
            "type": "bar"
           }
          ],
          "barpolar": [
           {
            "marker": {
             "line": {
              "color": "#E5ECF6",
              "width": 0.5
             },
             "pattern": {
              "fillmode": "overlay",
              "size": 10,
              "solidity": 0.2
             }
            },
            "type": "barpolar"
           }
          ],
          "carpet": [
           {
            "aaxis": {
             "endlinecolor": "#2a3f5f",
             "gridcolor": "white",
             "linecolor": "white",
             "minorgridcolor": "white",
             "startlinecolor": "#2a3f5f"
            },
            "baxis": {
             "endlinecolor": "#2a3f5f",
             "gridcolor": "white",
             "linecolor": "white",
             "minorgridcolor": "white",
             "startlinecolor": "#2a3f5f"
            },
            "type": "carpet"
           }
          ],
          "choropleth": [
           {
            "colorbar": {
             "outlinewidth": 0,
             "ticks": ""
            },
            "type": "choropleth"
           }
          ],
          "contour": [
           {
            "colorbar": {
             "outlinewidth": 0,
             "ticks": ""
            },
            "colorscale": [
             [
              0,
              "#0d0887"
             ],
             [
              0.1111111111111111,
              "#46039f"
             ],
             [
              0.2222222222222222,
              "#7201a8"
             ],
             [
              0.3333333333333333,
              "#9c179e"
             ],
             [
              0.4444444444444444,
              "#bd3786"
             ],
             [
              0.5555555555555556,
              "#d8576b"
             ],
             [
              0.6666666666666666,
              "#ed7953"
             ],
             [
              0.7777777777777778,
              "#fb9f3a"
             ],
             [
              0.8888888888888888,
              "#fdca26"
             ],
             [
              1,
              "#f0f921"
             ]
            ],
            "type": "contour"
           }
          ],
          "contourcarpet": [
           {
            "colorbar": {
             "outlinewidth": 0,
             "ticks": ""
            },
            "type": "contourcarpet"
           }
          ],
          "heatmap": [
           {
            "colorbar": {
             "outlinewidth": 0,
             "ticks": ""
            },
            "colorscale": [
             [
              0,
              "#0d0887"
             ],
             [
              0.1111111111111111,
              "#46039f"
             ],
             [
              0.2222222222222222,
              "#7201a8"
             ],
             [
              0.3333333333333333,
              "#9c179e"
             ],
             [
              0.4444444444444444,
              "#bd3786"
             ],
             [
              0.5555555555555556,
              "#d8576b"
             ],
             [
              0.6666666666666666,
              "#ed7953"
             ],
             [
              0.7777777777777778,
              "#fb9f3a"
             ],
             [
              0.8888888888888888,
              "#fdca26"
             ],
             [
              1,
              "#f0f921"
             ]
            ],
            "type": "heatmap"
           }
          ],
          "heatmapgl": [
           {
            "colorbar": {
             "outlinewidth": 0,
             "ticks": ""
            },
            "colorscale": [
             [
              0,
              "#0d0887"
             ],
             [
              0.1111111111111111,
              "#46039f"
             ],
             [
              0.2222222222222222,
              "#7201a8"
             ],
             [
              0.3333333333333333,
              "#9c179e"
             ],
             [
              0.4444444444444444,
              "#bd3786"
             ],
             [
              0.5555555555555556,
              "#d8576b"
             ],
             [
              0.6666666666666666,
              "#ed7953"
             ],
             [
              0.7777777777777778,
              "#fb9f3a"
             ],
             [
              0.8888888888888888,
              "#fdca26"
             ],
             [
              1,
              "#f0f921"
             ]
            ],
            "type": "heatmapgl"
           }
          ],
          "histogram": [
           {
            "marker": {
             "pattern": {
              "fillmode": "overlay",
              "size": 10,
              "solidity": 0.2
             }
            },
            "type": "histogram"
           }
          ],
          "histogram2d": [
           {
            "colorbar": {
             "outlinewidth": 0,
             "ticks": ""
            },
            "colorscale": [
             [
              0,
              "#0d0887"
             ],
             [
              0.1111111111111111,
              "#46039f"
             ],
             [
              0.2222222222222222,
              "#7201a8"
             ],
             [
              0.3333333333333333,
              "#9c179e"
             ],
             [
              0.4444444444444444,
              "#bd3786"
             ],
             [
              0.5555555555555556,
              "#d8576b"
             ],
             [
              0.6666666666666666,
              "#ed7953"
             ],
             [
              0.7777777777777778,
              "#fb9f3a"
             ],
             [
              0.8888888888888888,
              "#fdca26"
             ],
             [
              1,
              "#f0f921"
             ]
            ],
            "type": "histogram2d"
           }
          ],
          "histogram2dcontour": [
           {
            "colorbar": {
             "outlinewidth": 0,
             "ticks": ""
            },
            "colorscale": [
             [
              0,
              "#0d0887"
             ],
             [
              0.1111111111111111,
              "#46039f"
             ],
             [
              0.2222222222222222,
              "#7201a8"
             ],
             [
              0.3333333333333333,
              "#9c179e"
             ],
             [
              0.4444444444444444,
              "#bd3786"
             ],
             [
              0.5555555555555556,
              "#d8576b"
             ],
             [
              0.6666666666666666,
              "#ed7953"
             ],
             [
              0.7777777777777778,
              "#fb9f3a"
             ],
             [
              0.8888888888888888,
              "#fdca26"
             ],
             [
              1,
              "#f0f921"
             ]
            ],
            "type": "histogram2dcontour"
           }
          ],
          "mesh3d": [
           {
            "colorbar": {
             "outlinewidth": 0,
             "ticks": ""
            },
            "type": "mesh3d"
           }
          ],
          "parcoords": [
           {
            "line": {
             "colorbar": {
              "outlinewidth": 0,
              "ticks": ""
             }
            },
            "type": "parcoords"
           }
          ],
          "pie": [
           {
            "automargin": true,
            "type": "pie"
           }
          ],
          "scatter": [
           {
            "fillpattern": {
             "fillmode": "overlay",
             "size": 10,
             "solidity": 0.2
            },
            "type": "scatter"
           }
          ],
          "scatter3d": [
           {
            "line": {
             "colorbar": {
              "outlinewidth": 0,
              "ticks": ""
             }
            },
            "marker": {
             "colorbar": {
              "outlinewidth": 0,
              "ticks": ""
             }
            },
            "type": "scatter3d"
           }
          ],
          "scattercarpet": [
           {
            "marker": {
             "colorbar": {
              "outlinewidth": 0,
              "ticks": ""
             }
            },
            "type": "scattercarpet"
           }
          ],
          "scattergeo": [
           {
            "marker": {
             "colorbar": {
              "outlinewidth": 0,
              "ticks": ""
             }
            },
            "type": "scattergeo"
           }
          ],
          "scattergl": [
           {
            "marker": {
             "colorbar": {
              "outlinewidth": 0,
              "ticks": ""
             }
            },
            "type": "scattergl"
           }
          ],
          "scattermapbox": [
           {
            "marker": {
             "colorbar": {
              "outlinewidth": 0,
              "ticks": ""
             }
            },
            "type": "scattermapbox"
           }
          ],
          "scatterpolar": [
           {
            "marker": {
             "colorbar": {
              "outlinewidth": 0,
              "ticks": ""
             }
            },
            "type": "scatterpolar"
           }
          ],
          "scatterpolargl": [
           {
            "marker": {
             "colorbar": {
              "outlinewidth": 0,
              "ticks": ""
             }
            },
            "type": "scatterpolargl"
           }
          ],
          "scatterternary": [
           {
            "marker": {
             "colorbar": {
              "outlinewidth": 0,
              "ticks": ""
             }
            },
            "type": "scatterternary"
           }
          ],
          "surface": [
           {
            "colorbar": {
             "outlinewidth": 0,
             "ticks": ""
            },
            "colorscale": [
             [
              0,
              "#0d0887"
             ],
             [
              0.1111111111111111,
              "#46039f"
             ],
             [
              0.2222222222222222,
              "#7201a8"
             ],
             [
              0.3333333333333333,
              "#9c179e"
             ],
             [
              0.4444444444444444,
              "#bd3786"
             ],
             [
              0.5555555555555556,
              "#d8576b"
             ],
             [
              0.6666666666666666,
              "#ed7953"
             ],
             [
              0.7777777777777778,
              "#fb9f3a"
             ],
             [
              0.8888888888888888,
              "#fdca26"
             ],
             [
              1,
              "#f0f921"
             ]
            ],
            "type": "surface"
           }
          ],
          "table": [
           {
            "cells": {
             "fill": {
              "color": "#EBF0F8"
             },
             "line": {
              "color": "white"
             }
            },
            "header": {
             "fill": {
              "color": "#C8D4E3"
             },
             "line": {
              "color": "white"
             }
            },
            "type": "table"
           }
          ]
         },
         "layout": {
          "annotationdefaults": {
           "arrowcolor": "#2a3f5f",
           "arrowhead": 0,
           "arrowwidth": 1
          },
          "autotypenumbers": "strict",
          "coloraxis": {
           "colorbar": {
            "outlinewidth": 0,
            "ticks": ""
           }
          },
          "colorscale": {
           "diverging": [
            [
             0,
             "#8e0152"
            ],
            [
             0.1,
             "#c51b7d"
            ],
            [
             0.2,
             "#de77ae"
            ],
            [
             0.3,
             "#f1b6da"
            ],
            [
             0.4,
             "#fde0ef"
            ],
            [
             0.5,
             "#f7f7f7"
            ],
            [
             0.6,
             "#e6f5d0"
            ],
            [
             0.7,
             "#b8e186"
            ],
            [
             0.8,
             "#7fbc41"
            ],
            [
             0.9,
             "#4d9221"
            ],
            [
             1,
             "#276419"
            ]
           ],
           "sequential": [
            [
             0,
             "#0d0887"
            ],
            [
             0.1111111111111111,
             "#46039f"
            ],
            [
             0.2222222222222222,
             "#7201a8"
            ],
            [
             0.3333333333333333,
             "#9c179e"
            ],
            [
             0.4444444444444444,
             "#bd3786"
            ],
            [
             0.5555555555555556,
             "#d8576b"
            ],
            [
             0.6666666666666666,
             "#ed7953"
            ],
            [
             0.7777777777777778,
             "#fb9f3a"
            ],
            [
             0.8888888888888888,
             "#fdca26"
            ],
            [
             1,
             "#f0f921"
            ]
           ],
           "sequentialminus": [
            [
             0,
             "#0d0887"
            ],
            [
             0.1111111111111111,
             "#46039f"
            ],
            [
             0.2222222222222222,
             "#7201a8"
            ],
            [
             0.3333333333333333,
             "#9c179e"
            ],
            [
             0.4444444444444444,
             "#bd3786"
            ],
            [
             0.5555555555555556,
             "#d8576b"
            ],
            [
             0.6666666666666666,
             "#ed7953"
            ],
            [
             0.7777777777777778,
             "#fb9f3a"
            ],
            [
             0.8888888888888888,
             "#fdca26"
            ],
            [
             1,
             "#f0f921"
            ]
           ]
          },
          "colorway": [
           "#636efa",
           "#EF553B",
           "#00cc96",
           "#ab63fa",
           "#FFA15A",
           "#19d3f3",
           "#FF6692",
           "#B6E880",
           "#FF97FF",
           "#FECB52"
          ],
          "font": {
           "color": "#2a3f5f"
          },
          "geo": {
           "bgcolor": "white",
           "lakecolor": "white",
           "landcolor": "#E5ECF6",
           "showlakes": true,
           "showland": true,
           "subunitcolor": "white"
          },
          "hoverlabel": {
           "align": "left"
          },
          "hovermode": "closest",
          "mapbox": {
           "style": "light"
          },
          "paper_bgcolor": "white",
          "plot_bgcolor": "#E5ECF6",
          "polar": {
           "angularaxis": {
            "gridcolor": "white",
            "linecolor": "white",
            "ticks": ""
           },
           "bgcolor": "#E5ECF6",
           "radialaxis": {
            "gridcolor": "white",
            "linecolor": "white",
            "ticks": ""
           }
          },
          "scene": {
           "xaxis": {
            "backgroundcolor": "#E5ECF6",
            "gridcolor": "white",
            "gridwidth": 2,
            "linecolor": "white",
            "showbackground": true,
            "ticks": "",
            "zerolinecolor": "white"
           },
           "yaxis": {
            "backgroundcolor": "#E5ECF6",
            "gridcolor": "white",
            "gridwidth": 2,
            "linecolor": "white",
            "showbackground": true,
            "ticks": "",
            "zerolinecolor": "white"
           },
           "zaxis": {
            "backgroundcolor": "#E5ECF6",
            "gridcolor": "white",
            "gridwidth": 2,
            "linecolor": "white",
            "showbackground": true,
            "ticks": "",
            "zerolinecolor": "white"
           }
          },
          "shapedefaults": {
           "line": {
            "color": "#2a3f5f"
           }
          },
          "ternary": {
           "aaxis": {
            "gridcolor": "white",
            "linecolor": "white",
            "ticks": ""
           },
           "baxis": {
            "gridcolor": "white",
            "linecolor": "white",
            "ticks": ""
           },
           "bgcolor": "#E5ECF6",
           "caxis": {
            "gridcolor": "white",
            "linecolor": "white",
            "ticks": ""
           }
          },
          "title": {
           "x": 0.05
          },
          "xaxis": {
           "automargin": true,
           "gridcolor": "white",
           "linecolor": "white",
           "ticks": "",
           "title": {
            "standoff": 15
           },
           "zerolinecolor": "white",
           "zerolinewidth": 2
          },
          "yaxis": {
           "automargin": true,
           "gridcolor": "white",
           "linecolor": "white",
           "ticks": "",
           "title": {
            "standoff": 15
           },
           "zerolinecolor": "white",
           "zerolinewidth": 2
          }
         }
        },
        "xaxis": {
         "anchor": "y",
         "domain": [
          0,
          0.4
         ],
         "range": [
          0,
          0.75
         ]
        },
        "xaxis2": {
         "anchor": "y2",
         "domain": [
          0.6000000000000001,
          1
         ],
         "range": [
          0,
          0.75
         ]
        },
        "yaxis": {
         "anchor": "x",
         "domain": [
          0,
          1
         ]
        },
        "yaxis2": {
         "anchor": "x2",
         "domain": [
          0,
          1
         ]
        }
       }
      }
     },
     "metadata": {},
     "output_type": "display_data"
    }
   ],
   "source": [
    "fig = make_subplots(rows=1, cols=2, horizontal_spacing=0.2, )\n",
    "contribs = pd.concat((contribs_w_source.loc[['Base']],contribs_w_source.loc[sorted_feat_w_score], contribs_w_source.loc[['Prediction']]))\n",
    "trace = go.Waterfall(\n",
    "            name = \"Prediction\", #orientation = \"h\", \n",
    "            measure = [\"relative\"] * (len(contribs)-1) + [\"total\"],\n",
    "            y = contribs.index,\n",
    "            x = contribs.Contributions, orientation='h',\n",
    "            connector = {\"mode\":\"between\", \"line\":{\"width\":4, \"color\":\"rgb(0, 0, 0)\", \"dash\":\"solid\"}})\n",
    "fig.add_trace(trace, row=1, col=1)\n",
    "\n",
    "contribs = pd.concat((contribs_wo_source.loc[['Base']],contribs_wo_source.loc[sorted_feat_wo_score], contribs_wo_source.loc[['Prediction']]))\n",
    "trace = go.Waterfall(\n",
    "            name = \"Prediction\", #orientation = \"h\", \n",
    "            measure = [\"relative\"] * (len(contribs)-1) + [\"total\"],\n",
    "            y = contribs.index,\n",
    "            x = contribs.Contributions, orientation='h',\n",
    "            connector = {\"mode\":\"between\", \"line\":{\"width\":4, \"color\":\"rgb(0, 0, 0)\", \"dash\":\"solid\"}})\n",
    "#fig.add_trace(trace, row=1, col=2)\n",
    "\n",
    "contribs = pd.concat((contribs_w_source1.loc[['Base']],contribs_w_source1.loc[sorted_feat_w_score], contribs_w_source1.loc[['Prediction']]))\n",
    "trace = go.Waterfall(\n",
    "            name = \"Prediction\", #orientation = \"h\", \n",
    "            measure = [\"relative\"] * (len(contribs)-1) + [\"total\"],\n",
    "            y = contribs.index,\n",
    "            x = contribs.Contributions, orientation='h',\n",
    "            connector = {\"mode\":\"between\", \"line\":{\"width\":4, \"color\":\"rgb(0, 0, 0)\", \"dash\":\"solid\"}})\n",
    "fig.add_trace(trace, row=1, col=2)\n",
    "\n",
    "contribs = pd.concat((contribs_wo_source2.loc[['Base']],contribs_wo_source2.loc[sorted_feat_wo_score], contribs_wo_source2.loc[['Prediction']]))\n",
    "trace = go.Waterfall(\n",
    "            name = \"Prediction\", #orientation = \"h\", \n",
    "            measure = [\"relative\"] * (len(contribs)-1) + [\"total\"],\n",
    "            y = contribs.index,\n",
    "            x = contribs.Contributions, orientation='h',\n",
    "            connector = {\"mode\":\"between\", \"line\":{\"width\":4, \"color\":\"rgb(0, 0, 0)\", \"dash\":\"solid\"}})\n",
    "#fig.add_trace(trace, row=2, col=2)\n",
    "fig.update_xaxes(range=[0, 0.75])\n",
    "fig.update_layout(\n",
    "    showlegend=False,\n",
    "    #height=1000\n",
    "    )"
   ]
  },
  {
   "cell_type": "markdown",
   "metadata": {},
   "source": [
    "# <a name='VI'>VI. Sauvegarde du modèle</a>"
   ]
  },
  {
   "cell_type": "code",
   "execution_count": 34,
   "metadata": {},
   "outputs": [
    {
     "name": "stdout",
     "output_type": "stream",
     "text": [
      "0\n",
      "1\n",
      "2\n",
      "3\n"
     ]
    }
   ],
   "source": [
    "loan_rate_list = np.linspace(0,1,101)\n",
    "bec.name = 'GBC'\n",
    "for i, m in enumerate([bec, gbc_w_source_rfe, gbc_wo_source, gbc_wo_source_rfe]):\n",
    "    print(i)\n",
    "    m.save_predict(xtest, ytest)\n",
    "    m.create_shap_explainer(xtrain)\n",
    "    exp_cost_func, optimized_triggers = m.exploratory_cost_func(loan_rate_list = loan_rate_list, reimb_ratio_list = [0], save = True)\n",
    "    m.save_model()\n",
    "import pickle\n",
    "with open(os.path.join('model','data','MLE.pkl'),'wb') as handle :\n",
    "    pickle.dump(mle, handle)"
   ]
  },
  {
   "cell_type": "code",
   "execution_count": 33,
   "metadata": {},
   "outputs": [],
   "source": []
  }
 ],
 "metadata": {
  "kernelspec": {
   "display_name": "Python 3.9.13 ('venv': venv)",
   "language": "python",
   "name": "python3"
  },
  "language_info": {
   "codemirror_mode": {
    "name": "ipython",
    "version": 3
   },
   "file_extension": ".py",
   "mimetype": "text/x-python",
   "name": "python",
   "nbconvert_exporter": "python",
   "pygments_lexer": "ipython3",
   "version": "3.9.13"
  },
  "orig_nbformat": 4,
  "vscode": {
   "interpreter": {
    "hash": "23f35736e789f7d8e05ad5ba9974e9fee7e6987f8ff849d83bf96ce9c3d095e4"
   }
  }
 },
 "nbformat": 4,
 "nbformat_minor": 2
}
